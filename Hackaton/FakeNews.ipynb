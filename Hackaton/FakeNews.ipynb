{
 "cells": [
  {
   "cell_type": "markdown",
   "metadata": {
    "collapsed": true
   },
   "source": [
    "# #FakeNews Challenge"
   ]
  },
  {
   "cell_type": "markdown",
   "metadata": {},
   "source": [
    "Importando Bibliotecas"
   ]
  },
  {
   "cell_type": "code",
   "execution_count": 7,
   "metadata": {
    "collapsed": true
   },
   "outputs": [],
   "source": [
    "import pandas as pd\n",
    "import json as js\n",
    "import matplotlib.pyplot as plt"
   ]
  },
  {
   "cell_type": "markdown",
   "metadata": {},
   "source": [
    "## Importando dataset"
   ]
  },
  {
   "cell_type": "code",
   "execution_count": 8,
   "metadata": {},
   "outputs": [
    {
     "ename": "TypeError",
     "evalue": "'_io.TextIOWrapper' object is not reversible",
     "output_type": "error",
     "traceback": [
      "\u001b[1;31m---------------------------------------------------------------------------\u001b[0m",
      "\u001b[1;31mTypeError\u001b[0m                                 Traceback (most recent call last)",
      "\u001b[1;32m<ipython-input-8-9ab502036fc9>\u001b[0m in \u001b[0;36m<module>\u001b[1;34m()\u001b[0m\n\u001b[0;32m      2\u001b[0m \u001b[0mdata1\u001b[0m \u001b[1;33m=\u001b[0m \u001b[1;33m[\u001b[0m\u001b[1;33m]\u001b[0m\u001b[1;33m\u001b[0m\u001b[0m\n\u001b[0;32m      3\u001b[0m \u001b[1;32mwith\u001b[0m \u001b[0mopen\u001b[0m\u001b[1;33m(\u001b[0m\u001b[1;34m'fake-news-tera.json'\u001b[0m\u001b[1;33m)\u001b[0m \u001b[1;32mas\u001b[0m \u001b[0mf\u001b[0m\u001b[1;33m:\u001b[0m\u001b[1;33m\u001b[0m\u001b[0m\n\u001b[1;32m----> 4\u001b[1;33m     \u001b[1;32mfor\u001b[0m \u001b[0mline\u001b[0m \u001b[1;32min\u001b[0m \u001b[0mreversed\u001b[0m\u001b[1;33m(\u001b[0m\u001b[0mf\u001b[0m\u001b[1;33m)\u001b[0m\u001b[1;33m:\u001b[0m\u001b[1;33m\u001b[0m\u001b[0m\n\u001b[0m\u001b[0;32m      5\u001b[0m         \u001b[0mlinha\u001b[0m \u001b[1;33m=\u001b[0m \u001b[0mjs\u001b[0m\u001b[1;33m.\u001b[0m\u001b[0mloads\u001b[0m\u001b[1;33m(\u001b[0m\u001b[0mline\u001b[0m\u001b[1;33m)\u001b[0m\u001b[1;33m\u001b[0m\u001b[0m\n\u001b[0;32m      6\u001b[0m         \u001b[1;32mif\u001b[0m \u001b[0mlinha\u001b[0m\u001b[1;33m[\u001b[0m\u001b[1;34m'source'\u001b[0m\u001b[1;33m]\u001b[0m \u001b[1;33m!=\u001b[0m \u001b[1;36m0\u001b[0m\u001b[1;33m:\u001b[0m\u001b[1;33m\u001b[0m\u001b[0m\n",
      "\u001b[1;31mTypeError\u001b[0m: '_io.TextIOWrapper' object is not reversible"
     ]
    }
   ],
   "source": [
    "count = 0\n",
    "data1 = []\n",
    "with open('fake-news-tera.json') as f:\n",
    "    for line in reversed(f):\n",
    "        linha = js.loads(line)\n",
    "        if linha['source'] != 0:\n",
    "            count = count + 1"
   ]
  },
  {
   "cell_type": "code",
   "execution_count": 59,
   "metadata": {},
   "outputs": [
    {
     "data": {
      "text/plain": [
       "9130874"
      ]
     },
     "execution_count": 59,
     "metadata": {},
     "output_type": "execute_result"
    }
   ],
   "source": [
    "count"
   ]
  },
  {
   "cell_type": "code",
   "execution_count": 9,
   "metadata": {
    "collapsed": true
   },
   "outputs": [],
   "source": [
    "count = 0\n",
    "data = []\n",
    "with open('fake-news-tera.json') as f:\n",
    "    for line in f:\n",
    "        if count == 9130874:\n",
    "            break\n",
    "        linha = js.loads(line)\n",
    "        if linha['source'] != 0:\n",
    "            data.append(linha)\n",
    "        count = count + 1"
   ]
  },
  {
   "cell_type": "code",
   "execution_count": 10,
   "metadata": {
    "collapsed": true
   },
   "outputs": [],
   "source": [
    "datapd = pd.DataFrame(data)"
   ]
  },
  {
   "cell_type": "code",
   "execution_count": 11,
   "metadata": {},
   "outputs": [
    {
     "data": {
      "text/plain": [
       "(150470, 22)"
      ]
     },
     "execution_count": 11,
     "metadata": {},
     "output_type": "execute_result"
    }
   ],
   "source": [
    "datapd.shape"
   ]
  },
  {
   "cell_type": "code",
   "execution_count": 12,
   "metadata": {},
   "outputs": [
    {
     "data": {
      "text/html": [
       "<div>\n",
       "<style>\n",
       "    .dataframe thead tr:only-child th {\n",
       "        text-align: right;\n",
       "    }\n",
       "\n",
       "    .dataframe thead th {\n",
       "        text-align: left;\n",
       "    }\n",
       "\n",
       "    .dataframe tbody tr th {\n",
       "        vertical-align: top;\n",
       "    }\n",
       "</style>\n",
       "<table border=\"1\" class=\"dataframe\">\n",
       "  <thead>\n",
       "    <tr style=\"text-align: right;\">\n",
       "      <th></th>\n",
       "      <th>app</th>\n",
       "      <th>content</th>\n",
       "      <th>date</th>\n",
       "      <th>location_city</th>\n",
       "      <th>location_country</th>\n",
       "      <th>location_lat</th>\n",
       "      <th>location_lng</th>\n",
       "      <th>location_state</th>\n",
       "      <th>profile_avatar</th>\n",
       "      <th>profile_description</th>\n",
       "      <th>...</th>\n",
       "      <th>profile_location</th>\n",
       "      <th>profile_login</th>\n",
       "      <th>profile_name</th>\n",
       "      <th>profile_url</th>\n",
       "      <th>profile_web</th>\n",
       "      <th>related_tweet_content</th>\n",
       "      <th>related_tweet_date</th>\n",
       "      <th>related_tweet_url</th>\n",
       "      <th>source</th>\n",
       "      <th>url</th>\n",
       "    </tr>\n",
       "  </thead>\n",
       "  <tbody>\n",
       "    <tr>\n",
       "      <th>0</th>\n",
       "      <td>http://www.olaserragaucha.com.br/noticias/gera...</td>\n",
       "      <td></td>\n",
       "      <td>2017-11-22T06:00:06.000Z</td>\n",
       "      <td>None</td>\n",
       "      <td>Brasil</td>\n",
       "      <td>-29.534505</td>\n",
       "      <td>-53.390607</td>\n",
       "      <td>None</td>\n",
       "      <td></td>\n",
       "      <td>None</td>\n",
       "      <td>...</td>\n",
       "      <td>None</td>\n",
       "      <td>Olá, Serra Gaúcha! - Notícias</td>\n",
       "      <td>Olá, Serra Gaúcha! - Notícias</td>\n",
       "      <td>http://www.olaserragaucha.com.br</td>\n",
       "      <td>None</td>\n",
       "      <td>None</td>\n",
       "      <td>None</td>\n",
       "      <td>None</td>\n",
       "      <td>2</td>\n",
       "      <td>http://www.olaserragaucha.com.br/noticias/gera...</td>\n",
       "    </tr>\n",
       "    <tr>\n",
       "      <th>1</th>\n",
       "      <td>https://www.amazon.com.br/labirinto-esp%C3%ADr...</td>\n",
       "      <td>&lt;div style=\"float:left;\"&gt;&lt;a class=\"url\" href=\"...</td>\n",
       "      <td>2017-11-21T06:00:03.000Z</td>\n",
       "      <td>None</td>\n",
       "      <td>Canada</td>\n",
       "      <td>57.475555</td>\n",
       "      <td>-132.359722</td>\n",
       "      <td>BC</td>\n",
       "      <td></td>\n",
       "      <td>None</td>\n",
       "      <td>...</td>\n",
       "      <td>None</td>\n",
       "      <td>Amazon.com.br: Mais vendidos em Loja Kindle</td>\n",
       "      <td>Amazon.com.br: Mais vendidos em Loja Kindle</td>\n",
       "      <td>https://www.amazon.com.br</td>\n",
       "      <td>None</td>\n",
       "      <td>None</td>\n",
       "      <td>None</td>\n",
       "      <td>None</td>\n",
       "      <td>2</td>\n",
       "      <td>https://www.amazon.com.br/labirinto-esp%C3%ADr...</td>\n",
       "    </tr>\n",
       "    <tr>\n",
       "      <th>2</th>\n",
       "      <td>http://chilicomcarne.blogspot.com/2017/09/revi...</td>\n",
       "      <td>Capa de Isabel Lobinho e títulos por João ...</td>\n",
       "      <td>2017-10-31T06:00:10.791Z</td>\n",
       "      <td>None</td>\n",
       "      <td>Canada</td>\n",
       "      <td>57.475555</td>\n",
       "      <td>-132.359722</td>\n",
       "      <td>BC</td>\n",
       "      <td></td>\n",
       "      <td>None</td>\n",
       "      <td>...</td>\n",
       "      <td>None</td>\n",
       "      <td>MMMNNNRRRG</td>\n",
       "      <td>MMMNNNRRRG</td>\n",
       "      <td>http://chilicomcarne.blogspot.com</td>\n",
       "      <td>None</td>\n",
       "      <td>None</td>\n",
       "      <td>None</td>\n",
       "      <td>None</td>\n",
       "      <td>2</td>\n",
       "      <td>http://chilicomcarne.blogspot.com/2017/09/revi...</td>\n",
       "    </tr>\n",
       "    <tr>\n",
       "      <th>3</th>\n",
       "      <td>http://www.jornaltribunalivre.com.br/2017/10/n...</td>\n",
       "      <td>A Assembleia Legislativa de Minas Gerais (ALMG...</td>\n",
       "      <td>2017-10-31T17:35:30.000Z</td>\n",
       "      <td>Ouro Preto</td>\n",
       "      <td>Brasil</td>\n",
       "      <td>-20.385574</td>\n",
       "      <td>-43.503578</td>\n",
       "      <td>Minas Gerais</td>\n",
       "      <td>http://www.jornaltribunalivre.com.br/wp-conten...</td>\n",
       "      <td>None</td>\n",
       "      <td>...</td>\n",
       "      <td>None</td>\n",
       "      <td>Rafael Hilário</td>\n",
       "      <td>Rafael Hilário</td>\n",
       "      <td>http://www.jornaltribunalivre.com.br</td>\n",
       "      <td>None</td>\n",
       "      <td>None</td>\n",
       "      <td>None</td>\n",
       "      <td>None</td>\n",
       "      <td>2</td>\n",
       "      <td>http://www.jornaltribunalivre.com.br/2017/10/n...</td>\n",
       "    </tr>\n",
       "    <tr>\n",
       "      <th>4</th>\n",
       "      <td>http://www.valor.com.br/empresas/5181765/netfl...</td>\n",
       "      <td>&lt;img src=\"http://www.valor.com.br/sites/defaul...</td>\n",
       "      <td>2017-11-05T00:00:00.000Z</td>\n",
       "      <td>None</td>\n",
       "      <td>Brasil</td>\n",
       "      <td>-10.000000</td>\n",
       "      <td>-55.000000</td>\n",
       "      <td>None</td>\n",
       "      <td>http://www.valor.com.br/sites/al...</td>\n",
       "      <td>None</td>\n",
       "      <td>...</td>\n",
       "      <td>None</td>\n",
       "      <td>Valor Econômico - Últimas notícias</td>\n",
       "      <td>Valor Econômico - Últimas notícias</td>\n",
       "      <td>http://www.valor.com.br</td>\n",
       "      <td>None</td>\n",
       "      <td>None</td>\n",
       "      <td>None</td>\n",
       "      <td>None</td>\n",
       "      <td>2</td>\n",
       "      <td>http://www.valor.com.br/empresas/5181765/netfl...</td>\n",
       "    </tr>\n",
       "  </tbody>\n",
       "</table>\n",
       "<p>5 rows × 22 columns</p>\n",
       "</div>"
      ],
      "text/plain": [
       "                                                 app  \\\n",
       "0  http://www.olaserragaucha.com.br/noticias/gera...   \n",
       "1  https://www.amazon.com.br/labirinto-esp%C3%ADr...   \n",
       "2  http://chilicomcarne.blogspot.com/2017/09/revi...   \n",
       "3  http://www.jornaltribunalivre.com.br/2017/10/n...   \n",
       "4  http://www.valor.com.br/empresas/5181765/netfl...   \n",
       "\n",
       "                                             content  \\\n",
       "0                                                      \n",
       "1  <div style=\"float:left;\"><a class=\"url\" href=\"...   \n",
       "2      Capa de Isabel Lobinho e títulos por João ...   \n",
       "3  A Assembleia Legislativa de Minas Gerais (ALMG...   \n",
       "4  <img src=\"http://www.valor.com.br/sites/defaul...   \n",
       "\n",
       "                       date location_city location_country  location_lat  \\\n",
       "0  2017-11-22T06:00:06.000Z          None           Brasil    -29.534505   \n",
       "1  2017-11-21T06:00:03.000Z          None           Canada     57.475555   \n",
       "2  2017-10-31T06:00:10.791Z          None           Canada     57.475555   \n",
       "3  2017-10-31T17:35:30.000Z    Ouro Preto           Brasil    -20.385574   \n",
       "4  2017-11-05T00:00:00.000Z          None           Brasil    -10.000000   \n",
       "\n",
       "   location_lng location_state  \\\n",
       "0    -53.390607           None   \n",
       "1   -132.359722             BC   \n",
       "2   -132.359722             BC   \n",
       "3    -43.503578   Minas Gerais   \n",
       "4    -55.000000           None   \n",
       "\n",
       "                                      profile_avatar profile_description  \\\n",
       "0                                                                   None   \n",
       "1                                                                   None   \n",
       "2                                                                   None   \n",
       "3  http://www.jornaltribunalivre.com.br/wp-conten...                None   \n",
       "4                http://www.valor.com.br/sites/al...                None   \n",
       "\n",
       "                         ...                         profile_location  \\\n",
       "0                        ...                                     None   \n",
       "1                        ...                                     None   \n",
       "2                        ...                                     None   \n",
       "3                        ...                                     None   \n",
       "4                        ...                                     None   \n",
       "\n",
       "                                 profile_login  \\\n",
       "0                Olá, Serra Gaúcha! - Notícias   \n",
       "1  Amazon.com.br: Mais vendidos em Loja Kindle   \n",
       "2                                   MMMNNNRRRG   \n",
       "3                               Rafael Hilário   \n",
       "4           Valor Econômico - Últimas notícias   \n",
       "\n",
       "                                  profile_name  \\\n",
       "0                Olá, Serra Gaúcha! - Notícias   \n",
       "1  Amazon.com.br: Mais vendidos em Loja Kindle   \n",
       "2                                   MMMNNNRRRG   \n",
       "3                               Rafael Hilário   \n",
       "4           Valor Econômico - Últimas notícias   \n",
       "\n",
       "                            profile_url profile_web related_tweet_content  \\\n",
       "0      http://www.olaserragaucha.com.br        None                  None   \n",
       "1             https://www.amazon.com.br        None                  None   \n",
       "2     http://chilicomcarne.blogspot.com        None                  None   \n",
       "3  http://www.jornaltribunalivre.com.br        None                  None   \n",
       "4               http://www.valor.com.br        None                  None   \n",
       "\n",
       "  related_tweet_date related_tweet_url source  \\\n",
       "0               None              None      2   \n",
       "1               None              None      2   \n",
       "2               None              None      2   \n",
       "3               None              None      2   \n",
       "4               None              None      2   \n",
       "\n",
       "                                                 url  \n",
       "0  http://www.olaserragaucha.com.br/noticias/gera...  \n",
       "1  https://www.amazon.com.br/labirinto-esp%C3%ADr...  \n",
       "2  http://chilicomcarne.blogspot.com/2017/09/revi...  \n",
       "3  http://www.jornaltribunalivre.com.br/2017/10/n...  \n",
       "4  http://www.valor.com.br/empresas/5181765/netfl...  \n",
       "\n",
       "[5 rows x 22 columns]"
      ]
     },
     "execution_count": 12,
     "metadata": {},
     "output_type": "execute_result"
    }
   ],
   "source": [
    "datapd.head(5)"
   ]
  },
  {
   "cell_type": "code",
   "execution_count": 16,
   "metadata": {},
   "outputs": [
    {
     "data": {
      "text/plain": [
       "'http://www.jb.com.br/internacional/noticias/2017/11/16/hariri-aceita-convite-de-macron-e-deve-ir-para-franca/'"
      ]
     },
     "execution_count": 16,
     "metadata": {},
     "output_type": "execute_result"
    }
   ],
   "source": [
    "datapd['app'][500]"
   ]
  },
  {
   "cell_type": "code",
   "execution_count": 134,
   "metadata": {
    "scrolled": false
   },
   "outputs": [
    {
     "data": {
      "text/plain": [
       "Index(['app', 'content', 'date', 'location_city', 'location_country',\n",
       "       'location_lat', 'location_lng', 'location_state', 'profile_avatar',\n",
       "       'profile_description', 'profile_followers', 'profile_following',\n",
       "       'profile_location', 'profile_login', 'profile_name', 'profile_url',\n",
       "       'profile_web', 'related_tweet_content', 'related_tweet_date',\n",
       "       'related_tweet_url', 'source', 'url'],\n",
       "      dtype='object')"
      ]
     },
     "execution_count": 134,
     "metadata": {},
     "output_type": "execute_result"
    }
   ],
   "source": [
    "datapd.columns"
   ]
  },
  {
   "cell_type": "code",
   "execution_count": 17,
   "metadata": {
    "collapsed": true
   },
   "outputs": [],
   "source": [
    "dataprofile = datapd['profile_login']"
   ]
  },
  {
   "cell_type": "code",
   "execution_count": 18,
   "metadata": {
    "collapsed": true
   },
   "outputs": [],
   "source": [
    "datasource = datapd['location_country']"
   ]
  },
  {
   "cell_type": "code",
   "execution_count": 19,
   "metadata": {
    "collapsed": true
   },
   "outputs": [],
   "source": [
    "datadata = datapd['date']"
   ]
  },
  {
   "cell_type": "code",
   "execution_count": 20,
   "metadata": {},
   "outputs": [
    {
     "data": {
      "text/plain": [
       "(150470, 22)"
      ]
     },
     "execution_count": 20,
     "metadata": {},
     "output_type": "execute_result"
    }
   ],
   "source": [
    "datapd.shape"
   ]
  },
  {
   "cell_type": "code",
   "execution_count": 21,
   "metadata": {},
   "outputs": [
    {
     "data": {
      "text/plain": [
       "'2017-10-01T03:30:00.000Z'"
      ]
     },
     "execution_count": 21,
     "metadata": {},
     "output_type": "execute_result"
    }
   ],
   "source": [
    "datadata.min()"
   ]
  },
  {
   "cell_type": "code",
   "execution_count": 28,
   "metadata": {},
   "outputs": [
    {
     "data": {
      "text/plain": [
       "'♥ Wilma ♥'"
      ]
     },
     "execution_count": 28,
     "metadata": {},
     "output_type": "execute_result"
    }
   ],
   "source": [
    "dataprofile.max()\n"
   ]
  },
  {
   "cell_type": "code",
   "execution_count": 23,
   "metadata": {},
   "outputs": [
    {
     "data": {
      "text/plain": [
       "UOL                                                                                       3373\n",
       "Últimas Notícias - Jornal de Santa Catarina: notícias de Blumenau, Vale do Itajaí e SC    3358\n",
       "maringa.odiario.com                                                                       2945\n",
       "BAHIA NOTICIAS                                                                            2279\n",
       "RIC Mais Paraná                                                                           1626\n",
       "RepórterMT RSS                                                                            1552\n",
       "Campo Grande News - A notícia da terra a um clique de você                                1395\n",
       "Notícias - Cidade Verde                                                                   1369\n",
       "Política                                                                                  1347\n",
       "Da Redação                                                                                1279\n",
       "Midia NewsRSS                                                                             1260\n",
       "Politica                                                                                  1193\n",
       "Brasil                                                                                    1126\n",
       "G1 > Mundo                                                                                1076\n",
       "Redação Folha Vitória                                                                     1071\n",
       "Globo.com                                                                                  989\n",
       "Estadão Conteúdo                                                                           975\n",
       "Economia                                                                                   957\n",
       "Portal O Dia - Últimas notícias sobre o Piauí, esportes e entretenimento                   928\n",
       "G1 > Norte e Noroeste                                                                      877\n",
       "Consultor Jurídico                                                                         864\n",
       "Mundo                                                                                      857\n",
       "Jornal O Globo                                                                             846\n",
       "A TARDE                                                                                    829\n",
       "Folha de S.Paulo - Ilustrada - Principal                                                   813\n",
       "Folha de S.Paulo - Cotidiano - Principal                                                   807\n",
       "Thaïs Chaves                                                                               761\n",
       "Notícias  ABCdoABC - RSS                                                                   761\n",
       "Portal Vermelho - Notícias                                                                 745\n",
       "G1 > Política                                                                              734\n",
       "                                                                                          ... \n",
       "Elaine Patricia Cruz – Repórter da Agência Brasil*                                           1\n",
       "Tiago Barufi                                                                                 1\n",
       "ciberduvidas@iscte.pt                                                                        1\n",
       "Vestibular Mundo Educação                                                                    1\n",
       "Vera Penteado                                                                                1\n",
       "Pablo Cantó                                                                                  1\n",
       "Pedro Cavalcanti Ferreira                                                                    1\n",
       "Karla Spotorno                                                                               1\n",
       "noreply@blogger.com (DarkSide)                                                               1\n",
       "                            Divulgação/Prefeitura de Curitiba                                1\n",
       "Nilton  Kleina                                                                               1\n",
       "Letícia Ginak                                                                                1\n",
       "Luiz Gomes Otero                                                                             1\n",
       "Agência Brasil e Estadão Contéudo                                                            1\n",
       "Ana Cristina Campos – Repórter da Agência Brasil*                                            1\n",
       "nobody@flickr.com (REDES DA MARÉ)                                                            1\n",
       "ritasilveira                                                                                 1\n",
       "JM Madeira (liberação de imprensa)                                                           1\n",
       "por Fernanda Nogueira                                                                        1\n",
       "                            Reprodução/Youtube                                               1\n",
       "Luis                                                                                         1\n",
       "Vitor Matias                                                                                 1\n",
       "Daniela Amorim,  Denise Luna e Vinicius Neder | Estadão Conteúdo                             1\n",
       "Luiza Dulci                                                                                  1\n",
       "Jéssica Alves                                                                                1\n",
       "Bruna Dalcin                                                                                 1\n",
       "Luiz Flávio Gomes                                                                            1\n",
       "Porto Gente - Pedro Rossi **                                                                 1\n",
       "Janaína Figueiredo, correspondente                                                           1\n",
       "Centro de Dharma Zen Sorocaba                                                                1\n",
       "Name: profile_login, Length: 6335, dtype: int64"
      ]
     },
     "execution_count": 23,
     "metadata": {},
     "output_type": "execute_result"
    }
   ],
   "source": [
    "dataprofile.value_counts()"
   ]
  },
  {
   "cell_type": "code",
   "execution_count": 25,
   "metadata": {},
   "outputs": [
    {
     "data": {
      "image/png": "[encoded data removed]",
      "text/plain": [
       "<matplotlib.figure.Figure at 0x1a3ace27400>"
      ]
     },
     "metadata": {},
     "output_type": "display_data"
    }
   ],
   "source": [
    "\n",
    "plt.hist(dataprofile.value_counts())\n",
    "plt.show()"
   ]
  },
  {
   "cell_type": "code",
   "execution_count": null,
   "metadata": {
    "collapsed": true
   },
   "outputs": [],
   "source": [
    "cut_points = [0, 50, 100, 200, 300]\n",
    "label_names = ['hiper_low', 'low', 'median', 'high']\n",
    "\n",
    "def process_fare(datapd, cut_points, label_names):\n",
    "    datapd['']"
   ]
  },
  {
   "cell_type": "code",
   "execution_count": 142,
   "metadata": {
    "collapsed": true
   },
   "outputs": [],
   "source": [
    "from bs4 import BeautifulSoup\n",
    "from tqdm import tqdm\n",
    "import requests\n",
    "import re"
   ]
  },
  {
   "cell_type": "code",
   "execution_count": 63,
   "metadata": {},
   "outputs": [],
   "source": [
    "datapd_sampled = datapd.sample(9028, random_state=10)"
   ]
  },
  {
   "cell_type": "code",
   "execution_count": 83,
   "metadata": {},
   "outputs": [
    {
     "data": {
      "text/html": [
       "<div>\n",
       "<style>\n",
       "    .dataframe thead tr:only-child th {\n",
       "        text-align: right;\n",
       "    }\n",
       "\n",
       "    .dataframe thead th {\n",
       "        text-align: left;\n",
       "    }\n",
       "\n",
       "    .dataframe tbody tr th {\n",
       "        vertical-align: top;\n",
       "    }\n",
       "</style>\n",
       "<table border=\"1\" class=\"dataframe\">\n",
       "  <thead>\n",
       "    <tr style=\"text-align: right;\">\n",
       "      <th></th>\n",
       "      <th>app</th>\n",
       "      <th>content</th>\n",
       "      <th>date</th>\n",
       "      <th>location_city</th>\n",
       "      <th>location_country</th>\n",
       "      <th>location_lat</th>\n",
       "      <th>location_lng</th>\n",
       "      <th>location_state</th>\n",
       "      <th>profile_avatar</th>\n",
       "      <th>profile_description</th>\n",
       "      <th>...</th>\n",
       "      <th>profile_location</th>\n",
       "      <th>profile_login</th>\n",
       "      <th>profile_name</th>\n",
       "      <th>profile_url</th>\n",
       "      <th>profile_web</th>\n",
       "      <th>related_tweet_content</th>\n",
       "      <th>related_tweet_date</th>\n",
       "      <th>related_tweet_url</th>\n",
       "      <th>source</th>\n",
       "      <th>url</th>\n",
       "    </tr>\n",
       "  </thead>\n",
       "  <tbody>\n",
       "    <tr>\n",
       "      <th>34201</th>\n",
       "      <td>http://jmcunhasantos.blogspot.com/2017/11/mulh...</td>\n",
       "      <td>&lt;div dir=\"ltr\" style=\"text-align: left;\" trbid...</td>\n",
       "      <td>2017-11-11T13:13:00.000Z</td>\n",
       "      <td>None</td>\n",
       "      <td>Brasil</td>\n",
       "      <td>-5.000000</td>\n",
       "      <td>-45.000000</td>\n",
       "      <td>Maranhão</td>\n",
       "      <td></td>\n",
       "      <td>None</td>\n",
       "      <td>...</td>\n",
       "      <td>None</td>\n",
       "      <td>noreply@blogger.com (JM Cunha Santos)</td>\n",
       "      <td>noreply@blogger.com (JM Cunha Santos)</td>\n",
       "      <td>http://jmcunhasantos.blogspot.com</td>\n",
       "      <td>None</td>\n",
       "      <td>None</td>\n",
       "      <td>None</td>\n",
       "      <td>None</td>\n",
       "      <td>2</td>\n",
       "      <td>http://jmcunhasantos.blogspot.com/2017/11/mulh...</td>\n",
       "    </tr>\n",
       "    <tr>\n",
       "      <th>1185</th>\n",
       "      <td>https://www.campograndenews.com.br/colunistas/...</td>\n",
       "      <td></td>\n",
       "      <td>2017-11-08T11:24:00.000Z</td>\n",
       "      <td>None</td>\n",
       "      <td>Canada</td>\n",
       "      <td>57.475555</td>\n",
       "      <td>-132.359722</td>\n",
       "      <td>BC</td>\n",
       "      <td>https://www.campograndenews.com.br/layout/mobi...</td>\n",
       "      <td>None</td>\n",
       "      <td>...</td>\n",
       "      <td>None</td>\n",
       "      <td>Campo Grande News - A notícia da terra a um cl...</td>\n",
       "      <td>Campo Grande News - A notícia da terra a um cl...</td>\n",
       "      <td>https://www.campograndenews.com.br</td>\n",
       "      <td>None</td>\n",
       "      <td>None</td>\n",
       "      <td>None</td>\n",
       "      <td>None</td>\n",
       "      <td>2</td>\n",
       "      <td>https://www.campograndenews.com.br/colunistas/...</td>\n",
       "    </tr>\n",
       "    <tr>\n",
       "      <th>106076</th>\n",
       "      <td>https://g1.globo.com/sao-paulo/sao-jose-do-rio...</td>\n",
       "      <td>Segundo a polícia, as causas da morte do mot...</td>\n",
       "      <td>2017-11-13T10:12:56.000Z</td>\n",
       "      <td>None</td>\n",
       "      <td>Brasil</td>\n",
       "      <td>-22.000000</td>\n",
       "      <td>-49.000000</td>\n",
       "      <td>None</td>\n",
       "      <td>https://s2.glbimg.com/veNWQCjPmWVRAfzfLSJt35f_...</td>\n",
       "      <td>None</td>\n",
       "      <td>...</td>\n",
       "      <td>None</td>\n",
       "      <td>G1 &gt; Rio Preto e Araçatuba</td>\n",
       "      <td>G1 &gt; Rio Preto e Araçatuba</td>\n",
       "      <td>http://g1.globo.com</td>\n",
       "      <td>None</td>\n",
       "      <td>None</td>\n",
       "      <td>None</td>\n",
       "      <td>None</td>\n",
       "      <td>2</td>\n",
       "      <td>https://g1.globo.com/sao-paulo/sao-jose-do-rio...</td>\n",
       "    </tr>\n",
       "    <tr>\n",
       "      <th>51783</th>\n",
       "      <td>http://hojeemdia.com.br/esportes/sem-cueva-dor...</td>\n",
       "      <td>O São Paulo finalizou neste sábado, com um tre...</td>\n",
       "      <td>2017-11-18T18:08:31.000Z</td>\n",
       "      <td>None</td>\n",
       "      <td>Brasil</td>\n",
       "      <td>-10.000000</td>\n",
       "      <td>-55.000000</td>\n",
       "      <td>None</td>\n",
       "      <td></td>\n",
       "      <td>None</td>\n",
       "      <td>...</td>\n",
       "      <td>None</td>\n",
       "      <td>Estadao Conteudo</td>\n",
       "      <td>Estadao Conteudo</td>\n",
       "      <td>http://hojeemdia.com.br</td>\n",
       "      <td>None</td>\n",
       "      <td>None</td>\n",
       "      <td>None</td>\n",
       "      <td>None</td>\n",
       "      <td>2</td>\n",
       "      <td>http://hojeemdia.com.br/esportes/sem-cueva-dor...</td>\n",
       "    </tr>\n",
       "    <tr>\n",
       "      <th>6102</th>\n",
       "      <td>http://www.portalodia.com/noticias/politica/ex...</td>\n",
       "      <td>A investida tem como objetivo desbaratar uma s...</td>\n",
       "      <td>2017-11-14T12:38:32.000Z</td>\n",
       "      <td>Teresina</td>\n",
       "      <td>Brasil</td>\n",
       "      <td>-5.089170</td>\n",
       "      <td>-42.801941</td>\n",
       "      <td>Piauí</td>\n",
       "      <td>http://dia.portalodia.com/images/logomarca-por...</td>\n",
       "      <td>None</td>\n",
       "      <td>...</td>\n",
       "      <td>None</td>\n",
       "      <td>Portal O Dia - Últimas notícias sobre o Piauí,...</td>\n",
       "      <td>Portal O Dia - Últimas notícias sobre o Piauí,...</td>\n",
       "      <td>https://www.portalodia.com</td>\n",
       "      <td>None</td>\n",
       "      <td>None</td>\n",
       "      <td>None</td>\n",
       "      <td>None</td>\n",
       "      <td>2</td>\n",
       "      <td>http://www.portalodia.com/noticias/politica/ex...</td>\n",
       "    </tr>\n",
       "  </tbody>\n",
       "</table>\n",
       "<p>5 rows × 22 columns</p>\n",
       "</div>"
      ],
      "text/plain": [
       "                                                      app  \\\n",
       "34201   http://jmcunhasantos.blogspot.com/2017/11/mulh...   \n",
       "1185    https://www.campograndenews.com.br/colunistas/...   \n",
       "106076  https://g1.globo.com/sao-paulo/sao-jose-do-rio...   \n",
       "51783   http://hojeemdia.com.br/esportes/sem-cueva-dor...   \n",
       "6102    http://www.portalodia.com/noticias/politica/ex...   \n",
       "\n",
       "                                                  content  \\\n",
       "34201   <div dir=\"ltr\" style=\"text-align: left;\" trbid...   \n",
       "1185                                                        \n",
       "106076    Segundo a polícia, as causas da morte do mot...   \n",
       "51783   O São Paulo finalizou neste sábado, com um tre...   \n",
       "6102    A investida tem como objetivo desbaratar uma s...   \n",
       "\n",
       "                            date location_city location_country  location_lat  \\\n",
       "34201   2017-11-11T13:13:00.000Z          None           Brasil     -5.000000   \n",
       "1185    2017-11-08T11:24:00.000Z          None           Canada     57.475555   \n",
       "106076  2017-11-13T10:12:56.000Z          None           Brasil    -22.000000   \n",
       "51783   2017-11-18T18:08:31.000Z          None           Brasil    -10.000000   \n",
       "6102    2017-11-14T12:38:32.000Z      Teresina           Brasil     -5.089170   \n",
       "\n",
       "        location_lng location_state  \\\n",
       "34201     -45.000000       Maranhão   \n",
       "1185     -132.359722             BC   \n",
       "106076    -49.000000           None   \n",
       "51783     -55.000000           None   \n",
       "6102      -42.801941          Piauí   \n",
       "\n",
       "                                           profile_avatar profile_description  \\\n",
       "34201                                                                    None   \n",
       "1185    https://www.campograndenews.com.br/layout/mobi...                None   \n",
       "106076  https://s2.glbimg.com/veNWQCjPmWVRAfzfLSJt35f_...                None   \n",
       "51783                                                                    None   \n",
       "6102    http://dia.portalodia.com/images/logomarca-por...                None   \n",
       "\n",
       "                              ...                         profile_location  \\\n",
       "34201                         ...                                     None   \n",
       "1185                          ...                                     None   \n",
       "106076                        ...                                     None   \n",
       "51783                         ...                                     None   \n",
       "6102                          ...                                     None   \n",
       "\n",
       "                                            profile_login  \\\n",
       "34201               noreply@blogger.com (JM Cunha Santos)   \n",
       "1185    Campo Grande News - A notícia da terra a um cl...   \n",
       "106076                         G1 > Rio Preto e Araçatuba   \n",
       "51783                                    Estadao Conteudo   \n",
       "6102    Portal O Dia - Últimas notícias sobre o Piauí,...   \n",
       "\n",
       "                                             profile_name  \\\n",
       "34201               noreply@blogger.com (JM Cunha Santos)   \n",
       "1185    Campo Grande News - A notícia da terra a um cl...   \n",
       "106076                         G1 > Rio Preto e Araçatuba   \n",
       "51783                                    Estadao Conteudo   \n",
       "6102    Portal O Dia - Últimas notícias sobre o Piauí,...   \n",
       "\n",
       "                               profile_url profile_web related_tweet_content  \\\n",
       "34201    http://jmcunhasantos.blogspot.com        None                  None   \n",
       "1185    https://www.campograndenews.com.br        None                  None   \n",
       "106076                 http://g1.globo.com        None                  None   \n",
       "51783              http://hojeemdia.com.br        None                  None   \n",
       "6102            https://www.portalodia.com        None                  None   \n",
       "\n",
       "       related_tweet_date related_tweet_url source  \\\n",
       "34201                None              None      2   \n",
       "1185                 None              None      2   \n",
       "106076               None              None      2   \n",
       "51783                None              None      2   \n",
       "6102                 None              None      2   \n",
       "\n",
       "                                                      url  \n",
       "34201   http://jmcunhasantos.blogspot.com/2017/11/mulh...  \n",
       "1185    https://www.campograndenews.com.br/colunistas/...  \n",
       "106076  https://g1.globo.com/sao-paulo/sao-jose-do-rio...  \n",
       "51783   http://hojeemdia.com.br/esportes/sem-cueva-dor...  \n",
       "6102    http://www.portalodia.com/noticias/politica/ex...  \n",
       "\n",
       "[5 rows x 22 columns]"
      ]
     },
     "execution_count": 83,
     "metadata": {},
     "output_type": "execute_result"
    }
   ],
   "source": [
    "datapd_sampled.head()"
   ]
  },
  {
   "cell_type": "code",
   "execution_count": 78,
   "metadata": {
    "collapsed": true
   },
   "outputs": [],
   "source": [
    "def parse_url(url):\n",
    "    r = requests.get(url)\n",
    "    html = BeautifulSoup(r.text, 'html5lib')\n",
    "    \n",
    "    return html"
   ]
  },
  {
   "cell_type": "code",
   "execution_count": 120,
   "metadata": {},
   "outputs": [],
   "source": [
    "def get_info(url):\n",
    "    post_data = []\n",
    "    html = parse_url(url)\n",
    "\n",
    "    #Page title\n",
    "    if html.title is not None:\n",
    "        post_data.append(html.title.string)\n",
    "    else:\n",
    "        post_data.append('Página sem título')\n",
    "    \n",
    "    #Meta title\n",
    "    meta_title = html.find('meta', property='og:title')\n",
    "    \n",
    "    if meta_title is not None:\n",
    "        post_data.append(meta_title.get('content'))\n",
    "    else:\n",
    "        post_data.append('Página sem meta title')\n",
    "        \n",
    "    #Meta description\n",
    "    meta_description = html.find('meta', property='og:description')\n",
    "    \n",
    "    if meta_description is not None:\n",
    "        post_data.append(meta_description.get('content'))\n",
    "    else:\n",
    "        meta_description = html.find('meta', property='description')\n",
    "    \n",
    "        if meta_description is not None:\n",
    "            post_data.append(meta_description.get('content'))\n",
    "        else:\n",
    "            meta_description = html.find('meta', property='Description')\n",
    "\n",
    "            if meta_description is not None:\n",
    "                post_data.append(meta_description.get('content'))\n",
    "            else:\n",
    "                post_data.append('Página sem meta description')\n",
    "    \n",
    "    return post_data"
   ]
  },
  {
   "cell_type": "code",
   "execution_count": 90,
   "metadata": {},
   "outputs": [
    {
     "data": {
      "text/plain": [
       "'http://jmcunhasantos.blogspot.com/2017/11/mulher-condenada-por-matar-caes-e-gatos.html'"
      ]
     },
     "execution_count": 90,
     "metadata": {},
     "output_type": "execute_result"
    }
   ],
   "source": [
    "datapd_sampled['url'][34201]"
   ]
  },
  {
   "cell_type": "code",
   "execution_count": 125,
   "metadata": {
    "scrolled": true
   },
   "outputs": [
    {
     "name": "stderr",
     "output_type": "stream",
     "text": [
      "100%|████████████████████████████████████████████████████████████████████████████████| 599/599 [17:56<00:00,  1.80s/it]\n"
     ]
    }
   ],
   "source": [
    "info = []\n",
    "for url in tqdm(datapd_sampled['url'][:599]):\n",
    "    info.append(get_info(url))"
   ]
  },
  {
   "cell_type": "code",
   "execution_count": 195,
   "metadata": {
    "scrolled": true
   },
   "outputs": [],
   "source": [
    "for i, meta in enumerate(info):\n",
    "    for k, content in enumerate(meta):\n",
    "        info[i][k] = re.sub(r'\\s{2,}', ' ', str(info[i][k].strip()))\n",
    "\n",
    "# datameta = pd.DataFrame(info, columns=['Title', 'Meta title', 'Meta description'])"
   ]
  },
  {
   "cell_type": "code",
   "execution_count": 201,
   "metadata": {
    "scrolled": false
   },
   "outputs": [
    {
     "data": {
      "text/html": [
       "<div>\n",
       "<style>\n",
       "    .dataframe thead tr:only-child th {\n",
       "        text-align: right;\n",
       "    }\n",
       "\n",
       "    .dataframe thead th {\n",
       "        text-align: left;\n",
       "    }\n",
       "\n",
       "    .dataframe tbody tr th {\n",
       "        vertical-align: top;\n",
       "    }\n",
       "</style>\n",
       "<table border=\"1\" class=\"dataframe\">\n",
       "  <thead>\n",
       "    <tr style=\"text-align: right;\">\n",
       "      <th></th>\n",
       "      <th>Title</th>\n",
       "      <th>Meta title</th>\n",
       "      <th>Meta description</th>\n",
       "    </tr>\n",
       "  </thead>\n",
       "  <tbody>\n",
       "    <tr>\n",
       "      <th>0</th>\n",
       "      <td>JM Cunha Santos: Mulher condenada por matar cã...</td>\n",
       "      <td>Mulher condenada por matar cães e gatos tem pe...</td>\n",
       "      <td>POR JUSSARA SOARES     O GLOBO             ...</td>\n",
       "    </tr>\n",
       "    <tr>\n",
       "      <th>1</th>\n",
       "      <td>Cem anos depois, a Rússia ainda debate o comun...</td>\n",
       "      <td>Cem anos depois, a Rússia ainda debate o comun...</td>\n",
       "      <td>A Rússia deixou de comemorar o 7 de novembro, ...</td>\n",
       "    </tr>\n",
       "    <tr>\n",
       "      <th>2</th>\n",
       "      <td>Motociclista é encontrado morto em rodovia de ...</td>\n",
       "      <td>Motociclista é encontrado morto em rodovia de ...</td>\n",
       "      <td>Segundo a polícia, as causas da morte do motoc...</td>\n",
       "    </tr>\n",
       "    <tr>\n",
       "      <th>3</th>\n",
       "      <td>Sem Cueva, Dorival Junior faz mistério em esca...</td>\n",
       "      <td>Sem Cueva, Dorival Junior faz mistério em esca...</td>\n",
       "      <td>...</td>\n",
       "    </tr>\n",
       "    <tr>\n",
       "      <th>4</th>\n",
       "      <td>Ex-governador de Mato Grosso do Sul é alvo de ...</td>\n",
       "      <td>Ex-governador de Mato Grosso do Sul é alvo de ...</td>\n",
       "      <td>A investida tem como objetivo desbaratar uma s...</td>\n",
       "    </tr>\n",
       "  </tbody>\n",
       "</table>\n",
       "</div>"
      ],
      "text/plain": [
       "                                               Title  \\\n",
       "0  JM Cunha Santos: Mulher condenada por matar cã...   \n",
       "1  Cem anos depois, a Rússia ainda debate o comun...   \n",
       "2  Motociclista é encontrado morto em rodovia de ...   \n",
       "3  Sem Cueva, Dorival Junior faz mistério em esca...   \n",
       "4  Ex-governador de Mato Grosso do Sul é alvo de ...   \n",
       "\n",
       "                                          Meta title  \\\n",
       "0  Mulher condenada por matar cães e gatos tem pe...   \n",
       "1  Cem anos depois, a Rússia ainda debate o comun...   \n",
       "2  Motociclista é encontrado morto em rodovia de ...   \n",
       "3  Sem Cueva, Dorival Junior faz mistério em esca...   \n",
       "4  Ex-governador de Mato Grosso do Sul é alvo de ...   \n",
       "\n",
       "                                    Meta description  \n",
       "0     POR JUSSARA SOARES     O GLOBO             ...  \n",
       "1  A Rússia deixou de comemorar o 7 de novembro, ...  \n",
       "2  Segundo a polícia, as causas da morte do motoc...  \n",
       "3                                                ...  \n",
       "4  A investida tem como objetivo desbaratar uma s...  "
      ]
     },
     "execution_count": 201,
     "metadata": {},
     "output_type": "execute_result"
    }
   ],
   "source": [
    "datameta.head()"
   ]
  },
  {
   "cell_type": "code",
   "execution_count": 202,
   "metadata": {
    "scrolled": true
   },
   "outputs": [
    {
     "name": "stdout",
     "output_type": "stream",
     "text": [
      "<class 'pandas.core.frame.DataFrame'>\n",
      "RangeIndex: 599 entries, 0 to 598\n",
      "Data columns (total 3 columns):\n",
      "Title               599 non-null object\n",
      "Meta title          598 non-null object\n",
      "Meta description    598 non-null object\n",
      "dtypes: object(3)\n",
      "memory usage: 14.1+ KB\n"
     ]
    }
   ],
   "source": [
    "datameta.info()"
   ]
  },
  {
   "cell_type": "code",
   "execution_count": 203,
   "metadata": {
    "collapsed": true
   },
   "outputs": [],
   "source": [
    "datameta.to_csv('metadescription.csv', encoding='utf-8')"
   ]
  }
 ],
 "metadata": {
  "kernelspec": {
   "display_name": "Python 3",
   "language": "python",
   "name": "python3"
  },
  "language_info": {
   "codemirror_mode": {
    "name": "ipython",
    "version": 3
   },
   "file_extension": ".py",
   "mimetype": "text/x-python",
   "name": "python",
   "nbconvert_exporter": "python",
   "pygments_lexer": "ipython3",
   "version": "3.6.2"
  }
 },
 "nbformat": 4,
 "nbformat_minor": 2
}
