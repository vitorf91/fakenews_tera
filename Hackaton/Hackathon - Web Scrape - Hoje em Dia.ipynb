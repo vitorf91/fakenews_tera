{
 "cells": [
  {
   "cell_type": "markdown",
   "metadata": {},
   "source": [
    "# Web Scrape - Hoje em Dia"
   ]
  },
  {
   "cell_type": "markdown",
   "metadata": {},
   "source": [
    "Objetivo: extrair a headline, descrição e link das principais notícias do portal Hoje em Dia afim de identificar padrões presentes em notícias consideradas verdadeiras. A fonte é um portal ligado a Rede Record.\n",
    "\n",
    "Fonte: http://hojeemdia.com.br/primeiro-plano/pol%C3%ADtica"
   ]
  },
  {
   "cell_type": "markdown",
   "metadata": {},
   "source": [
    "## Importe das bibliotecas"
   ]
  },
  {
   "cell_type": "code",
   "execution_count": 2,
   "metadata": {
    "collapsed": true
   },
   "outputs": [],
   "source": [
    "import requests\n",
    "from bs4 import BeautifulSoup\n",
    "import numpy as np\n",
    "import pandas as pd\n",
    "from tqdm import tqdm"
   ]
  },
  {
   "cell_type": "markdown",
   "metadata": {},
   "source": [
    "## Definição das funções de parse da URL"
   ]
  },
  {
   "cell_type": "markdown",
   "metadata": {},
   "source": [
    "Função que retorna o HTML da página"
   ]
  },
  {
   "cell_type": "code",
   "execution_count": 3,
   "metadata": {
    "collapsed": true
   },
   "outputs": [],
   "source": [
    "def parse_url(url):\n",
    "    r = requests.get(url)\n",
    "    html = BeautifulSoup(r.text, 'html5lib')\n",
    "    \n",
    "    return html"
   ]
  },
  {
   "cell_type": "markdown",
   "metadata": {},
   "source": [
    "Função que extrai título, link, data e resumo do post. Como cada site possui uma estrutura diferente, não é possível generalizar essa função."
   ]
  },
  {
   "cell_type": "code",
   "execution_count": 4,
   "metadata": {
    "collapsed": true
   },
   "outputs": [],
   "source": [
    "def get_hd_posts(url, pages=1):\n",
    "    post_data = []\n",
    "    \n",
    "    html = parse_url(url)\n",
    "    posts_hd = html.find_all('li', 'post')\n",
    "    \n",
    "    for i, post in enumerate(posts_hd):\n",
    "        title = post.find('div', 'title').find('a').get_text()\n",
    "        link = post.find('div', 'title').find('a').get('href')\n",
    "        date = post.find('div', 'time').get_text().replace('\\n', '')\n",
    "        excerpt = title\n",
    "        post_data.append([title, link, date, excerpt])\n",
    "        \n",
    "    if pages > 1:\n",
    "        for p in tqdm(range(2, pages)):\n",
    "            html = parse_url(url + '?page=' + str(p))\n",
    "            posts_hd = html.find_all('li', 'post')\n",
    "\n",
    "            for i, post in enumerate(posts_hd):\n",
    "                title = post.find('div', 'title').find('a').get_text()\n",
    "                link = post.find('div', 'title').find('a').get('href')\n",
    "                date = post.find('div', 'time').get_text().replace('\\n', '')\n",
    "                excerpt = title\n",
    "                post_data.append([title, link, date, excerpt])\n",
    "    \n",
    "    return np.array(post_data)"
   ]
  },
  {
   "cell_type": "markdown",
   "metadata": {},
   "source": [
    "## Criação e tratamento do dataframe"
   ]
  },
  {
   "cell_type": "code",
   "execution_count": 6,
   "metadata": {},
   "outputs": [
    {
     "name": "stderr",
     "output_type": "stream",
     "text": [
      "100%|████████████████████████████████████████████████████████████████████████████████████| 8/8 [00:02<00:00,  2.71it/s]\n"
     ]
    }
   ],
   "source": [
    "posts_hd = get_hd_posts('http://hojeemdia.com.br/primeiro-plano/pol%C3%ADtica', pages=10)"
   ]
  },
  {
   "cell_type": "markdown",
   "metadata": {},
   "source": [
    "Verifica a qualidade dos dados gerados"
   ]
  },
  {
   "cell_type": "code",
   "execution_count": 7,
   "metadata": {
    "collapsed": true
   },
   "outputs": [],
   "source": [
    "dataframe_hd = pd.DataFrame(posts_hd, columns=['title', 'url', 'date', 'excerpt'])"
   ]
  },
  {
   "cell_type": "code",
   "execution_count": 8,
   "metadata": {},
   "outputs": [
    {
     "data": {
      "text/html": [
       "<div>\n",
       "<style>\n",
       "    .dataframe thead tr:only-child th {\n",
       "        text-align: right;\n",
       "    }\n",
       "\n",
       "    .dataframe thead th {\n",
       "        text-align: left;\n",
       "    }\n",
       "\n",
       "    .dataframe tbody tr th {\n",
       "        vertical-align: top;\n",
       "    }\n",
       "</style>\n",
       "<table border=\"1\" class=\"dataframe\">\n",
       "  <thead>\n",
       "    <tr style=\"text-align: right;\">\n",
       "      <th></th>\n",
       "      <th>title</th>\n",
       "      <th>url</th>\n",
       "      <th>date</th>\n",
       "      <th>excerpt</th>\n",
       "    </tr>\n",
       "  </thead>\n",
       "  <tbody>\n",
       "    <tr>\n",
       "      <th>0</th>\n",
       "      <td>Professores da UFMG realizam ato em defesa ao ...</td>\n",
       "      <td>/primeiro-plano/professores-da-ufmg-realizam-a...</td>\n",
       "      <td>10:17</td>\n",
       "      <td>Professores da UFMG realizam ato em defesa ao ...</td>\n",
       "    </tr>\n",
       "    <tr>\n",
       "      <th>1</th>\n",
       "      <td>Câmara inicia debate da reforma da Previdência...</td>\n",
       "      <td>/primeiro-plano/pol%C3%ADtica/c%C3%A2mara-inic...</td>\n",
       "      <td>22:02</td>\n",
       "      <td>Câmara inicia debate da reforma da Previdência...</td>\n",
       "    </tr>\n",
       "    <tr>\n",
       "      <th>2</th>\n",
       "      <td>Temer viaja para Argentina com expectativa de ...</td>\n",
       "      <td>/primeiro-plano/temer-viaja-para-argentina-com...</td>\n",
       "      <td>21:20</td>\n",
       "      <td>Temer viaja para Argentina com expectativa de ...</td>\n",
       "    </tr>\n",
       "    <tr>\n",
       "      <th>3</th>\n",
       "      <td>Temer convoca reunião com Rodrigo Maia, minist...</td>\n",
       "      <td>/primeiro-plano/pol%C3%ADtica/temer-convoca-re...</td>\n",
       "      <td>19:32</td>\n",
       "      <td>Temer convoca reunião com Rodrigo Maia, minist...</td>\n",
       "    </tr>\n",
       "    <tr>\n",
       "      <th>4</th>\n",
       "      <td>Lula defende acordos com oposição se voltar ao...</td>\n",
       "      <td>/primeiro-plano/pol%C3%ADtica/lula-defende-aco...</td>\n",
       "      <td>16:14</td>\n",
       "      <td>Lula defende acordos com oposição se voltar ao...</td>\n",
       "    </tr>\n",
       "  </tbody>\n",
       "</table>\n",
       "</div>"
      ],
      "text/plain": [
       "                                               title  \\\n",
       "0  Professores da UFMG realizam ato em defesa ao ...   \n",
       "1  Câmara inicia debate da reforma da Previdência...   \n",
       "2  Temer viaja para Argentina com expectativa de ...   \n",
       "3  Temer convoca reunião com Rodrigo Maia, minist...   \n",
       "4  Lula defende acordos com oposição se voltar ao...   \n",
       "\n",
       "                                                 url  \\\n",
       "0  /primeiro-plano/professores-da-ufmg-realizam-a...   \n",
       "1  /primeiro-plano/pol%C3%ADtica/c%C3%A2mara-inic...   \n",
       "2  /primeiro-plano/temer-viaja-para-argentina-com...   \n",
       "3  /primeiro-plano/pol%C3%ADtica/temer-convoca-re...   \n",
       "4  /primeiro-plano/pol%C3%ADtica/lula-defende-aco...   \n",
       "\n",
       "                                date  \\\n",
       "0                  10:17               \n",
       "1                  22:02               \n",
       "2                  21:20               \n",
       "3                  19:32               \n",
       "4                  16:14               \n",
       "\n",
       "                                             excerpt  \n",
       "0  Professores da UFMG realizam ato em defesa ao ...  \n",
       "1  Câmara inicia debate da reforma da Previdência...  \n",
       "2  Temer viaja para Argentina com expectativa de ...  \n",
       "3  Temer convoca reunião com Rodrigo Maia, minist...  \n",
       "4  Lula defende acordos com oposição se voltar ao...  "
      ]
     },
     "execution_count": 8,
     "metadata": {},
     "output_type": "execute_result"
    }
   ],
   "source": [
    "dataframe_hd.head()"
   ]
  },
  {
   "cell_type": "code",
   "execution_count": 9,
   "metadata": {
    "scrolled": true
   },
   "outputs": [
    {
     "name": "stdout",
     "output_type": "stream",
     "text": [
      "<class 'pandas.core.frame.DataFrame'>\n",
      "RangeIndex: 180 entries, 0 to 179\n",
      "Data columns (total 4 columns):\n",
      "title      180 non-null object\n",
      "url        180 non-null object\n",
      "date       180 non-null object\n",
      "excerpt    180 non-null object\n",
      "dtypes: object(4)\n",
      "memory usage: 5.7+ KB\n"
     ]
    }
   ],
   "source": [
    "dataframe_hd.info()"
   ]
  },
  {
   "cell_type": "markdown",
   "metadata": {},
   "source": [
    "Exporta pra CSV"
   ]
  },
  {
   "cell_type": "code",
   "execution_count": null,
   "metadata": {
    "collapsed": true
   },
   "outputs": [],
   "source": [
    "dataframe_hd.to_csv('hojeemdia.csv', encoding='utf-8')"
   ]
  }
 ],
 "metadata": {
  "kernelspec": {
   "display_name": "Python 3",
   "language": "python",
   "name": "python3"
  },
  "language_info": {
   "codemirror_mode": {
    "name": "ipython",
    "version": 3
   },
   "file_extension": ".py",
   "mimetype": "text/x-python",
   "name": "python",
   "nbconvert_exporter": "python",
   "pygments_lexer": "ipython3",
   "version": "3.6.2"
  }
 },
 "nbformat": 4,
 "nbformat_minor": 2
}
