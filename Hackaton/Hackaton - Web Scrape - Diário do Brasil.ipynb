{
 "cells": [
  {
   "cell_type": "markdown",
   "metadata": {},
   "source": [
    "# Web Scrape - Diário do Brasil"
   ]
  },
  {
   "cell_type": "markdown",
   "metadata": {},
   "source": [
    "Objetivo: extrair a headline, descrição e link das principais notícias do portal Diário do Brasil afim de identificar padrões referentes à Fake News.\n",
    "\n",
    "fonte: https://www.issoenoticia.com.br/artigo/projeto-da-usp-lista-10-maiores-sites-de-falsas-noticias-no-brasil"
   ]
  },
  {
   "cell_type": "markdown",
   "metadata": {},
   "source": [
    "## Importando as bibliotecas necessárias"
   ]
  },
  {
   "cell_type": "code",
   "execution_count": 1,
   "metadata": {},
   "outputs": [],
   "source": [
    "import requests\n",
    "from bs4 import BeautifulSoup\n",
    "import re"
   ]
  },
  {
   "cell_type": "markdown",
   "metadata": {},
   "source": [
    "Criando listas vazias com os campos que queremos extrair do portal"
   ]
  },
  {
   "cell_type": "code",
   "execution_count": 2,
   "metadata": {},
   "outputs": [],
   "source": [
    "title_list = []\n",
    "link_list = []\n",
    "summary_list = []\n",
    "datepost_list = []"
   ]
  },
  {
   "cell_type": "markdown",
   "metadata": {},
   "source": [
    "Desenvolvemos de uma função para extrair os dados de forma iterativa por todas as páginas do portal. Importante salientar que cada portal de notícias possui uma estrutura única.\n",
    "\n",
    "Portanto, para cada portal, desenvolvemos uma função diferente."
   ]
  },
  {
   "cell_type": "code",
   "execution_count": 3,
   "metadata": {},
   "outputs": [],
   "source": [
    "def ScrapeFakeNews(url):\n",
    "    page = requests.get(url).text\n",
    "    soup = BeautifulSoup(page,'html.parser')\n",
    "    \n",
    "    titles = soup.find_all('h3', {'class': 'entry-title'})\n",
    "    summaries = soup.find_all('div', {'class': 'content-list-excerpt'})\n",
    "    datepost = soup.find_all('div', {'class': 'content-thumb'})\n",
    "\n",
    "    for title in titles:\n",
    "        review_text = title.find('a').get_text()\n",
    "        title_correct = re.sub(\"\\W+\", \" \", review_text) \n",
    "        title_list.append(title_correct)\n",
    "        link_list.append(title.find('a').get('href'))\n",
    "\n",
    "    for summary in summaries:\n",
    "        review_text = summary.find('p').get_text()\n",
    "        summary_correct = re.sub(\"\\W+\", \" \", review_text)\n",
    "        summary_list.append(summary_correct)"
   ]
  },
  {
   "cell_type": "markdown",
   "metadata": {},
   "source": [
    "### Iteração com todas as páginas do website"
   ]
  },
  {
   "cell_type": "code",
   "execution_count": 4,
   "metadata": {},
   "outputs": [
    {
     "name": "stderr",
     "output_type": "stream",
     "text": [
      "100%|██████████| 150/150 [02:39<00:00,  1.06s/it]\n"
     ]
    }
   ],
   "source": [
    "from tqdm import tqdm\n",
    " \n",
    "for x in tqdm(range(100,250)):\n",
    "    paginas = 'https://www.diariodobrasil.org/home-2/home-2-2/page/' + str(x) +'/'\n",
    "    \n",
    "    try: \n",
    "        ScrapeFakeNews(paginas)\n",
    "    except (RuntimeError, TypeError, NameError):\n",
    "        break"
   ]
  },
  {
   "cell_type": "markdown",
   "metadata": {},
   "source": [
    "### Criando o DataFrame baseado nos dados extraídos"
   ]
  },
  {
   "cell_type": "code",
   "execution_count": 5,
   "metadata": {},
   "outputs": [],
   "source": [
    "import pandas as pd\n",
    "import numpy as np"
   ]
  },
  {
   "cell_type": "code",
   "execution_count": 6,
   "metadata": {},
   "outputs": [],
   "source": [
    "title_final = np.array(title_list)\n",
    "url_final = np.array(link_list)\n",
    "summary_final = np.array(summary_list)\n",
    "datepost_final = np.empty(summary_final.shape)"
   ]
  },
  {
   "cell_type": "code",
   "execution_count": 7,
   "metadata": {},
   "outputs": [],
   "source": [
    "diariodobrasil = pd.DataFrame(data=[title_final, url_final, datepost_final, summary_final])"
   ]
  },
  {
   "cell_type": "code",
   "execution_count": 8,
   "metadata": {},
   "outputs": [],
   "source": [
    "diariodobrasil_real = diariodobrasil.T"
   ]
  },
  {
   "cell_type": "code",
   "execution_count": 9,
   "metadata": {},
   "outputs": [],
   "source": [
    "diariodobrasil_real.columns = ['title', 'url', 'date', 'summary']"
   ]
  },
  {
   "cell_type": "code",
   "execution_count": 10,
   "metadata": {},
   "outputs": [],
   "source": [
    "diariodobrasil_real['date'] = 0"
   ]
  },
  {
   "cell_type": "code",
   "execution_count": 11,
   "metadata": {},
   "outputs": [
    {
     "data": {
      "text/html": [
       "<div>\n",
       "<style scoped>\n",
       "    .dataframe tbody tr th:only-of-type {\n",
       "        vertical-align: middle;\n",
       "    }\n",
       "\n",
       "    .dataframe tbody tr th {\n",
       "        vertical-align: top;\n",
       "    }\n",
       "\n",
       "    .dataframe thead th {\n",
       "        text-align: right;\n",
       "    }\n",
       "</style>\n",
       "<table border=\"1\" class=\"dataframe\">\n",
       "  <thead>\n",
       "    <tr style=\"text-align: right;\">\n",
       "      <th></th>\n",
       "      <th>title</th>\n",
       "      <th>url</th>\n",
       "      <th>date</th>\n",
       "      <th>summary</th>\n",
       "    </tr>\n",
       "  </thead>\n",
       "  <tbody>\n",
       "    <tr>\n",
       "      <th>0</th>\n",
       "      <td>Advogado de Palocci enfrenta Moro e leva paul...</td>\n",
       "      <td>https://www.diariodobrasil.org/advogado-de-pal...</td>\n",
       "      <td>0</td>\n",
       "      <td>Sérgio Moro e o advogado do petista Antonio Pa...</td>\n",
       "    </tr>\n",
       "    <tr>\n",
       "      <th>1</th>\n",
       "      <td>Medo de ser algemado Lula pede para depor via...</td>\n",
       "      <td>https://www.diariodobrasil.org/medo-de-ser-alg...</td>\n",
       "      <td>0</td>\n",
       "      <td>A defesa do dr Lula teve um pedido negado pelo...</td>\n",
       "    </tr>\n",
       "    <tr>\n",
       "      <th>2</th>\n",
       "      <td>Fim da bandalheira FBI poderá entrar na Lava ...</td>\n",
       "      <td>https://www.diariodobrasil.org/fim-da-bandalhe...</td>\n",
       "      <td>0</td>\n",
       "      <td>Polícia Federal e Ministério Público poderão a...</td>\n",
       "    </tr>\n",
       "    <tr>\n",
       "      <th>3</th>\n",
       "      <td>Vaticano estaria prestes a admitir que possui...</td>\n",
       "      <td>https://novesegundos.com/vaticano-estaria-pres...</td>\n",
       "      <td>0</td>\n",
       "      <td>No início desta semana documentos vazados pelo...</td>\n",
       "    </tr>\n",
       "    <tr>\n",
       "      <th>4</th>\n",
       "      <td>Coreia do Norte dispara míssil nuclear interc...</td>\n",
       "      <td>https://www.diariodobrasil.org/urgente-kim-jon...</td>\n",
       "      <td>0</td>\n",
       "      <td>O míssil atravessou o país e seguiu para o les...</td>\n",
       "    </tr>\n",
       "  </tbody>\n",
       "</table>\n",
       "</div>"
      ],
      "text/plain": [
       "                                               title  \\\n",
       "0   Advogado de Palocci enfrenta Moro e leva paul...   \n",
       "1   Medo de ser algemado Lula pede para depor via...   \n",
       "2   Fim da bandalheira FBI poderá entrar na Lava ...   \n",
       "3   Vaticano estaria prestes a admitir que possui...   \n",
       "4   Coreia do Norte dispara míssil nuclear interc...   \n",
       "\n",
       "                                                 url  date  \\\n",
       "0  https://www.diariodobrasil.org/advogado-de-pal...     0   \n",
       "1  https://www.diariodobrasil.org/medo-de-ser-alg...     0   \n",
       "2  https://www.diariodobrasil.org/fim-da-bandalhe...     0   \n",
       "3  https://novesegundos.com/vaticano-estaria-pres...     0   \n",
       "4  https://www.diariodobrasil.org/urgente-kim-jon...     0   \n",
       "\n",
       "                                             summary  \n",
       "0  Sérgio Moro e o advogado do petista Antonio Pa...  \n",
       "1  A defesa do dr Lula teve um pedido negado pelo...  \n",
       "2  Polícia Federal e Ministério Público poderão a...  \n",
       "3  No início desta semana documentos vazados pelo...  \n",
       "4  O míssil atravessou o país e seguiu para o les...  "
      ]
     },
     "execution_count": 11,
     "metadata": {},
     "output_type": "execute_result"
    }
   ],
   "source": [
    "diariodobrasil_real.head()"
   ]
  },
  {
   "cell_type": "markdown",
   "metadata": {},
   "source": [
    "### Extraindo o DataFrame para CSV"
   ]
  },
  {
   "cell_type": "code",
   "execution_count": 12,
   "metadata": {},
   "outputs": [],
   "source": [
    "diariodobrasil_real.to_csv('diariodobrasil final.csv')"
   ]
  }
 ],
 "metadata": {
  "kernelspec": {
   "display_name": "Python 3",
   "language": "python",
   "name": "python3"
  },
  "language_info": {
   "codemirror_mode": {
    "name": "ipython",
    "version": 3
   },
   "file_extension": ".py",
   "mimetype": "text/x-python",
   "name": "python",
   "nbconvert_exporter": "python",
   "pygments_lexer": "ipython3",
   "version": "3.5.4"
  }
 },
 "nbformat": 4,
 "nbformat_minor": 2
}
