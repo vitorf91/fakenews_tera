{
 "cells": [
  {
   "cell_type": "markdown",
   "metadata": {},
   "source": [
    "# Web Scrape - Ceticismo Político"
   ]
  },
  {
   "cell_type": "markdown",
   "metadata": {},
   "source": [
    "Objetivo: extrair a headline, descrição e link das principais notícias do portal Ceticismo Político afim de identificar padrões referentes à Fake News.\n",
    "\n",
    "Assumimos que este site publica notícias consideradas fake news de acordo com esta publicação: https://www.issoenoticia.com.br/artigo/projeto-da-usp-lista-10-maiores-sites-de-falsas-noticias-no-brasil\n",
    "\n",
    "Fonte: https://ceticismopolitico.com/"
   ]
  },
  {
   "cell_type": "markdown",
   "metadata": {},
   "source": [
    "## Importe das bibliotecas necessárias"
   ]
  },
  {
   "cell_type": "code",
   "execution_count": 34,
   "metadata": {
    "collapsed": true
   },
   "outputs": [],
   "source": [
    "import requests\n",
    "from bs4 import BeautifulSoup\n",
    "import numpy as np\n",
    "import pandas as pd\n",
    "from tqdm import tqdm"
   ]
  },
  {
   "cell_type": "markdown",
   "metadata": {},
   "source": [
    "## Definição das funções de parse da URL"
   ]
  },
  {
   "cell_type": "markdown",
   "metadata": {},
   "source": [
    "Função que retorna o HTML da url fornecida"
   ]
  },
  {
   "cell_type": "code",
   "execution_count": 35,
   "metadata": {
    "collapsed": true
   },
   "outputs": [],
   "source": [
    "def parse_url(url):\n",
    "    r = requests.get(url)\n",
    "    html = BeautifulSoup(r.text, 'html5lib')\n",
    "    \n",
    "    return html"
   ]
  },
  {
   "cell_type": "markdown",
   "metadata": {},
   "source": [
    "Função que extrai título, link, data e resumo do post. Como cada site possui uma estrutura diferente, não é possível generalizar essa função."
   ]
  },
  {
   "cell_type": "code",
   "execution_count": 49,
   "metadata": {},
   "outputs": [],
   "source": [
    "def get_posts(url, pages=1):\n",
    "    post_data = []\n",
    "\n",
    "    html = parse_url(url)\n",
    "    posts = html.find_all('div', 'item-details')\n",
    "\n",
    "    for i, post in enumerate(posts):\n",
    "        title = post.find('h1', 'entry-title')\n",
    "        date = post.find('div', 'td-module-meta-info')\n",
    "        excerpt = post.find('div', 'td-post-text-content')\n",
    "\n",
    "        if (title is not None) & (date is not None) & (excerpt is not None):\n",
    "            excerpt_p = ''\n",
    "            for paragraph in excerpt.find_all('p', recursive=False):\n",
    "                excerpt_p = excerpt_p + paragraph.get_text()\n",
    "\n",
    "            post_data.append([title.find('a').get_text(), title.find('a').get('href'), date.find('time', 'entry-date').get('datetime'), excerpt_p])\n",
    "    if pages > 1:\n",
    "        for p in tqdm(range(2, pages)):\n",
    "            html = parse_url(url + 'page/' + str(p) + '/')\n",
    "            posts = html.find_all('div', 'item-details')\n",
    "\n",
    "            for i, post in enumerate(posts):\n",
    "                title = post.find('h1', 'entry-title')\n",
    "                date = post.find('div', 'td-module-meta-info')\n",
    "                excerpt = post.find('div', 'td-post-text-content')\n",
    "\n",
    "                if (title is not None) & (date is not None) & (excerpt is not None):\n",
    "                    excerpt_p = ''\n",
    "                    for paragraph in excerpt.find_all('p', recursive=False):\n",
    "                        excerpt_p = excerpt_p + paragraph.get_text()\n",
    "                    post_data.append([title.find('a').get_text(), title.find('a').get('href'), date.find('time', 'entry-date').get('datetime'), excerpt_p])\n",
    "\n",
    "    return np.array(post_data)"
   ]
  },
  {
   "cell_type": "markdown",
   "metadata": {},
   "source": [
    "## Captura os posts do site"
   ]
  },
  {
   "cell_type": "code",
   "execution_count": 54,
   "metadata": {
    "scrolled": true
   },
   "outputs": [],
   "source": [
    "posts = get_posts('https://ceticismopolitico.com/', pages=1)"
   ]
  },
  {
   "cell_type": "markdown",
   "metadata": {},
   "source": [
    "## Criação e tratamento do dataframe"
   ]
  },
  {
   "cell_type": "code",
   "execution_count": 51,
   "metadata": {
    "collapsed": true
   },
   "outputs": [],
   "source": [
    "dataframe = pd.DataFrame(posts, columns=['title', 'url', 'date', 'excerpt'])"
   ]
  },
  {
   "cell_type": "markdown",
   "metadata": {},
   "source": [
    "Verifica a qualidade dos dados gerados"
   ]
  },
  {
   "cell_type": "code",
   "execution_count": 52,
   "metadata": {
    "scrolled": true
   },
   "outputs": [
    {
     "data": {
      "text/html": [
       "<div>\n",
       "<style>\n",
       "    .dataframe thead tr:only-child th {\n",
       "        text-align: right;\n",
       "    }\n",
       "\n",
       "    .dataframe thead th {\n",
       "        text-align: left;\n",
       "    }\n",
       "\n",
       "    .dataframe tbody tr th {\n",
       "        vertical-align: top;\n",
       "    }\n",
       "</style>\n",
       "<table border=\"1\" class=\"dataframe\">\n",
       "  <thead>\n",
       "    <tr style=\"text-align: right;\">\n",
       "      <th></th>\n",
       "      <th>title</th>\n",
       "      <th>url</th>\n",
       "      <th>date</th>\n",
       "      <th>excerpt</th>\n",
       "    </tr>\n",
       "  </thead>\n",
       "  <tbody>\n",
       "    <tr>\n",
       "      <th>0</th>\n",
       "      <td>Professora que colocou camisinha com a boca em...</td>\n",
       "      <td>https://ceticismopolitico.com/2017/12/06/profe...</td>\n",
       "      <td>2017-12-06T20:09:53+00:00</td>\n",
       "      <td>Um vídeo compartilhado nas redes sociais que m...</td>\n",
       "    </tr>\n",
       "    <tr>\n",
       "      <th>1</th>\n",
       "      <td>Kátia Abreu diz que vai colocar sua expulsão e...</td>\n",
       "      <td>https://ceticismopolitico.com/2017/11/30/katia...</td>\n",
       "      <td>2017-11-30T21:16:15+00:00</td>\n",
       "      <td>A senadora Kátia Abreu (sem partido-TO) disse ...</td>\n",
       "    </tr>\n",
       "    <tr>\n",
       "      <th>2</th>\n",
       "      <td>Blog esquerdista dá a entender que reclamar de...</td>\n",
       "      <td>https://ceticismopolitico.com/2017/11/28/blog-...</td>\n",
       "      <td>2017-11-28T19:07:54+00:00</td>\n",
       "      <td>Um texto de Jorge Gauthier, para o blog Me Sal...</td>\n",
       "    </tr>\n",
       "    <tr>\n",
       "      <th>3</th>\n",
       "      <td>Alckmin diz que por ele PSDB “desembarca”, mas...</td>\n",
       "      <td>https://ceticismopolitico.com/2017/11/28/alckm...</td>\n",
       "      <td>2017-11-28T18:40:04+00:00</td>\n",
       "      <td>O governador de São Paulo, Geraldo Alckmin, as...</td>\n",
       "    </tr>\n",
       "    <tr>\n",
       "      <th>4</th>\n",
       "      <td>Cara de pau não tem limites: Zé Celso aciona M...</td>\n",
       "      <td>https://ceticismopolitico.com/2017/11/28/cara-...</td>\n",
       "      <td>2017-11-28T18:01:46+00:00</td>\n",
       "      <td>O Teatro Oficina procurou o Ministério Público...</td>\n",
       "    </tr>\n",
       "  </tbody>\n",
       "</table>\n",
       "</div>"
      ],
      "text/plain": [
       "                                               title  \\\n",
       "0  Professora que colocou camisinha com a boca em...   \n",
       "1  Kátia Abreu diz que vai colocar sua expulsão e...   \n",
       "2  Blog esquerdista dá a entender que reclamar de...   \n",
       "3  Alckmin diz que por ele PSDB “desembarca”, mas...   \n",
       "4  Cara de pau não tem limites: Zé Celso aciona M...   \n",
       "\n",
       "                                                 url  \\\n",
       "0  https://ceticismopolitico.com/2017/12/06/profe...   \n",
       "1  https://ceticismopolitico.com/2017/11/30/katia...   \n",
       "2  https://ceticismopolitico.com/2017/11/28/blog-...   \n",
       "3  https://ceticismopolitico.com/2017/11/28/alckm...   \n",
       "4  https://ceticismopolitico.com/2017/11/28/cara-...   \n",
       "\n",
       "                        date  \\\n",
       "0  2017-12-06T20:09:53+00:00   \n",
       "1  2017-11-30T21:16:15+00:00   \n",
       "2  2017-11-28T19:07:54+00:00   \n",
       "3  2017-11-28T18:40:04+00:00   \n",
       "4  2017-11-28T18:01:46+00:00   \n",
       "\n",
       "                                             excerpt  \n",
       "0  Um vídeo compartilhado nas redes sociais que m...  \n",
       "1  A senadora Kátia Abreu (sem partido-TO) disse ...  \n",
       "2  Um texto de Jorge Gauthier, para o blog Me Sal...  \n",
       "3  O governador de São Paulo, Geraldo Alckmin, as...  \n",
       "4  O Teatro Oficina procurou o Ministério Público...  "
      ]
     },
     "execution_count": 52,
     "metadata": {},
     "output_type": "execute_result"
    }
   ],
   "source": [
    "dataframe.head()"
   ]
  },
  {
   "cell_type": "code",
   "execution_count": 53,
   "metadata": {},
   "outputs": [
    {
     "name": "stdout",
     "output_type": "stream",
     "text": [
      "<class 'pandas.core.frame.DataFrame'>\n",
      "RangeIndex: 90 entries, 0 to 89\n",
      "Data columns (total 4 columns):\n",
      "title      90 non-null object\n",
      "url        90 non-null object\n",
      "date       90 non-null object\n",
      "excerpt    90 non-null object\n",
      "dtypes: object(4)\n",
      "memory usage: 2.9+ KB\n"
     ]
    }
   ],
   "source": [
    "dataframe.info()"
   ]
  },
  {
   "cell_type": "markdown",
   "metadata": {},
   "source": [
    "## Saída para CSV"
   ]
  },
  {
   "cell_type": "code",
   "execution_count": 194,
   "metadata": {
    "collapsed": true
   },
   "outputs": [],
   "source": [
    "dataframe.to_csv('ceticismopolitico.csv', encoding='utf-8')"
   ]
  }
 ],
 "metadata": {
  "kernelspec": {
   "display_name": "Python 3",
   "language": "python",
   "name": "python3"
  },
  "language_info": {
   "codemirror_mode": {
    "name": "ipython",
    "version": 3
   },
   "file_extension": ".py",
   "mimetype": "text/x-python",
   "name": "python",
   "nbconvert_exporter": "python",
   "pygments_lexer": "ipython3",
   "version": "3.6.2"
  }
 },
 "nbformat": 4,
 "nbformat_minor": 2
}
