{
 "cells": [
  {
   "cell_type": "markdown",
   "metadata": {},
   "source": [
    "# Web Scrape - Jornalivre"
   ]
  },
  {
   "cell_type": "markdown",
   "metadata": {},
   "source": [
    "Objetivo: extrair a headline, descrição e link das principais notícias do portal Jornalivre afim de identificar padrões referentes à Fake News.\n",
    "\n",
    "fonte: https://www.issoenoticia.com.br/artigo/projeto-da-usp-lista-10-maiores-sites-de-falsas-noticias-no-brasil"
   ]
  },
  {
   "cell_type": "code",
   "execution_count": null,
   "metadata": {},
   "outputs": [],
   "source": [
    "import requests\n",
    "from bs4 import BeautifulSoup"
   ]
  },
  {
   "cell_type": "markdown",
   "metadata": {},
   "source": [
    "Criando listas vazias com os campos que queremos extrair do portal"
   ]
  },
  {
   "cell_type": "code",
   "execution_count": 2,
   "metadata": {},
   "outputs": [],
   "source": [
    "title_list = []\n",
    "link_list = []\n",
    "summary_list = []\n",
    "datepost_list = []"
   ]
  },
  {
   "cell_type": "markdown",
   "metadata": {},
   "source": [
    "Desenvolvemos uma função para extrair os dados de forma iterativa por todas as páginas do portal. Importante salientar que cada portal de notícias possui uma estrutura única.\n",
    "\n",
    "Portanto, para cada portal, desenvolvemos uma função diferente."
   ]
  },
  {
   "cell_type": "code",
   "execution_count": 3,
   "metadata": {},
   "outputs": [],
   "source": [
    "def ScrapeFakeNews(url):\n",
    "    page = requests.get(url).text\n",
    "    soup = BeautifulSoup(page,'html.parser')\n",
    "    \n",
    "    titles = soup.find_all('h1', {'class': 'entry-title'})\n",
    "    summaries = soup.find_all('div', {'class': 'entry-summary'})\n",
    "    datepost = soup.find_all('time', {'class': 'entry-date'})\n",
    "\n",
    "    for title in titles:\n",
    "        title_list.append(title.find('a').get_text())\n",
    "        link_list.append(title.find('a').get('href'))\n",
    "\n",
    "    for summary in summaries:\n",
    "        summary_list.append(summary.find('p').get_text())\n",
    "\n",
    "    for date in datepost:\n",
    "        datepost_list.append(date.get('datetime'))"
   ]
  },
  {
   "cell_type": "markdown",
   "metadata": {},
   "source": [
    "### Iteração com todas as páginas do website"
   ]
  },
  {
   "cell_type": "code",
   "execution_count": 5,
   "metadata": {
    "scrolled": false
   },
   "outputs": [
    {
     "name": "stderr",
     "output_type": "stream",
     "text": [
      "100%|██████████| 1511/1511 [34:25<00:00,  1.37s/it]\n"
     ]
    }
   ],
   "source": [
    "from tqdm import tqdm\n",
    "  \n",
    "for x in tqdm(range(2,1513)):\n",
    "    paginas = 'https://jornalivre.com/page/' + str(x) +'/'\n",
    "    \n",
    "    try: \n",
    "        ScrapeFakeNews(paginas)\n",
    "    except (RuntimeError, TypeError, NameError):\n",
    "        break"
   ]
  },
  {
   "cell_type": "markdown",
   "metadata": {},
   "source": [
    "### Criando o DataFrame baseado nos dados extraídos"
   ]
  },
  {
   "cell_type": "code",
   "execution_count": 6,
   "metadata": {},
   "outputs": [],
   "source": [
    "import pandas as pd\n",
    "import numpy as np"
   ]
  },
  {
   "cell_type": "code",
   "execution_count": 8,
   "metadata": {},
   "outputs": [],
   "source": [
    "title_final = np.array(title_list)\n",
    "url_final = np.array(link_list)\n",
    "summary_final = np.array(summary_list)\n",
    "datepost_final = np.array(datepost_list)"
   ]
  },
  {
   "cell_type": "code",
   "execution_count": 9,
   "metadata": {},
   "outputs": [],
   "source": [
    "jornalivre = pd.DataFrame(data=[title_final, url_final, datepost_final, summary_final])"
   ]
  },
  {
   "cell_type": "code",
   "execution_count": 10,
   "metadata": {},
   "outputs": [],
   "source": [
    "jornalivre_real = jornalivre.T"
   ]
  },
  {
   "cell_type": "code",
   "execution_count": 11,
   "metadata": {},
   "outputs": [],
   "source": [
    "jornalivre_real.columns = ['title', 'url', 'datepost', 'summary']"
   ]
  },
  {
   "cell_type": "code",
   "execution_count": 12,
   "metadata": {},
   "outputs": [
    {
     "data": {
      "text/html": [
       "<div>\n",
       "<style scoped>\n",
       "    .dataframe tbody tr th:only-of-type {\n",
       "        vertical-align: middle;\n",
       "    }\n",
       "\n",
       "    .dataframe tbody tr th {\n",
       "        vertical-align: top;\n",
       "    }\n",
       "\n",
       "    .dataframe thead th {\n",
       "        text-align: right;\n",
       "    }\n",
       "</style>\n",
       "<table border=\"1\" class=\"dataframe\">\n",
       "  <thead>\n",
       "    <tr style=\"text-align: right;\">\n",
       "      <th></th>\n",
       "      <th>title</th>\n",
       "      <th>url</th>\n",
       "      <th>datepost</th>\n",
       "      <th>summary</th>\n",
       "    </tr>\n",
       "  </thead>\n",
       "  <tbody>\n",
       "    <tr>\n",
       "      <th>0</th>\n",
       "      <td>Notícia de que Trump reconheceu Jerusalém como...</td>\n",
       "      <td>https://jornalivre.com/2017/12/09/noticia-de-q...</td>\n",
       "      <td>2017-12-07T11:48:31+00:00</td>\n",
       "      <td>Segundo noticiou o Diário Nacional, a Vereador...</td>\n",
       "    </tr>\n",
       "    <tr>\n",
       "      <th>1</th>\n",
       "      <td>Estudo do Ministério da Fazenda aponta: Brasil...</td>\n",
       "      <td>https://jornalivre.com/2017/12/08/estudo-do-mi...</td>\n",
       "      <td>2017-12-09T18:29:21+00:00</td>\n",
       "      <td>Um dos assuntos mais comentados desta semana f...</td>\n",
       "    </tr>\n",
       "    <tr>\n",
       "      <th>2</th>\n",
       "      <td>Em entrevista, Meirelles expõe desmandos do go...</td>\n",
       "      <td>https://jornalivre.com/2017/12/08/em-entrevist...</td>\n",
       "      <td>2017-12-08T20:57:59+00:00</td>\n",
       "      <td>Informa o portal G1: Segundo a lenda de Robin ...</td>\n",
       "    </tr>\n",
       "    <tr>\n",
       "      <th>3</th>\n",
       "      <td>Marcelo Odebrecht volta pra casa em jatinho pa...</td>\n",
       "      <td>https://jornalivre.com/2017/12/05/marcelo-odeb...</td>\n",
       "      <td>2017-12-08T12:00:13+00:00</td>\n",
       "      <td>Em uma entrevista concedida à Exame, o Ministr...</td>\n",
       "    </tr>\n",
       "    <tr>\n",
       "      <th>4</th>\n",
       "      <td>Ex-secretário da Saúde deixa escapar que hemat...</td>\n",
       "      <td>https://jornalivre.com/2017/12/04/ex-secretari...</td>\n",
       "      <td>2017-12-06T18:03:17+00:00</td>\n",
       "      <td>Diante da Reforma da Previdência, tucanos faze...</td>\n",
       "    </tr>\n",
       "  </tbody>\n",
       "</table>\n",
       "</div>"
      ],
      "text/plain": [
       "                                               title  \\\n",
       "0  Notícia de que Trump reconheceu Jerusalém como...   \n",
       "1  Estudo do Ministério da Fazenda aponta: Brasil...   \n",
       "2  Em entrevista, Meirelles expõe desmandos do go...   \n",
       "3  Marcelo Odebrecht volta pra casa em jatinho pa...   \n",
       "4  Ex-secretário da Saúde deixa escapar que hemat...   \n",
       "\n",
       "                                                 url  \\\n",
       "0  https://jornalivre.com/2017/12/09/noticia-de-q...   \n",
       "1  https://jornalivre.com/2017/12/08/estudo-do-mi...   \n",
       "2  https://jornalivre.com/2017/12/08/em-entrevist...   \n",
       "3  https://jornalivre.com/2017/12/05/marcelo-odeb...   \n",
       "4  https://jornalivre.com/2017/12/04/ex-secretari...   \n",
       "\n",
       "                    datepost  \\\n",
       "0  2017-12-07T11:48:31+00:00   \n",
       "1  2017-12-09T18:29:21+00:00   \n",
       "2  2017-12-08T20:57:59+00:00   \n",
       "3  2017-12-08T12:00:13+00:00   \n",
       "4  2017-12-06T18:03:17+00:00   \n",
       "\n",
       "                                             summary  \n",
       "0  Segundo noticiou o Diário Nacional, a Vereador...  \n",
       "1  Um dos assuntos mais comentados desta semana f...  \n",
       "2  Informa o portal G1: Segundo a lenda de Robin ...  \n",
       "3  Em uma entrevista concedida à Exame, o Ministr...  \n",
       "4  Diante da Reforma da Previdência, tucanos faze...  "
      ]
     },
     "execution_count": 12,
     "metadata": {},
     "output_type": "execute_result"
    }
   ],
   "source": [
    "jornalivre_real.head()"
   ]
  },
  {
   "cell_type": "markdown",
   "metadata": {},
   "source": [
    "### Extraindo o DataFrame para CSV"
   ]
  },
  {
   "cell_type": "code",
   "execution_count": 13,
   "metadata": {},
   "outputs": [],
   "source": [
    "jornalivre_real.to_csv('jornalivre final.csv')"
   ]
  }
 ],
 "metadata": {
  "kernelspec": {
   "display_name": "Python 3",
   "language": "python",
   "name": "python3"
  },
  "language_info": {
   "codemirror_mode": {
    "name": "ipython",
    "version": 3
   },
   "file_extension": ".py",
   "mimetype": "text/x-python",
   "name": "python",
   "nbconvert_exporter": "python",
   "pygments_lexer": "ipython3",
   "version": "3.5.4"
  }
 },
 "nbformat": 4,
 "nbformat_minor": 2
}
