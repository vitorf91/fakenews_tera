{
 "cells": [
  {
   "cell_type": "code",
   "execution_count": 1,
   "metadata": {},
   "outputs": [],
   "source": [
    "import requests\n",
    "from bs4 import BeautifulSoup"
   ]
  },
  {
   "cell_type": "code",
   "execution_count": 2,
   "metadata": {},
   "outputs": [],
   "source": [
    "title_list = []\n",
    "link_list = []\n",
    "summary_list = []\n",
    "datepost_list = []\n",
    "\n",
    "\n",
    "##home = requests.get('https://jornalivre.com/').text\n",
    "#soup = BeautifulSoup(home, 'html.parser')\n",
    "\n",
    "#titles = soup.find_all('h1', {'class': 'entry-title'})\n",
    "#summaries = soup.find_all('div', {'class': 'entry-summary'})\n",
    "#datepost = soup.find_all('time', {'class': 'entry-date'})\n",
    "\n",
    "#for title in titles:\n",
    " #   title_list.append(title.find('a').get_text())\n",
    "  #  link_list.append(title.find('a').get('href'))\n",
    "\n",
    "#for summary in summaries:\n",
    " #   summary_list.append(summary.find('p').get_text())\n",
    "\n",
    "#for date in datepost:\n",
    " #   datepost_list.append(date.get('datetime'))\n",
    "    \n"
   ]
  },
  {
   "cell_type": "code",
   "execution_count": 3,
   "metadata": {},
   "outputs": [],
   "source": [
    "def ScrapeFakeNews(url):\n",
    "    page = requests.get(url).text\n",
    "    soup = BeautifulSoup(page,'html.parser')\n",
    "    \n",
    "    titles = soup.find_all('h1', {'class': 'entry-title'})\n",
    "    summaries = soup.find_all('div', {'class': 'entry-summary'})\n",
    "    datepost = soup.find_all('time', {'class': 'entry-date'})\n",
    "\n",
    "    for title in titles:\n",
    "        title_list.append(title.find('a').get_text())\n",
    "        link_list.append(title.find('a').get('href'))\n",
    "\n",
    "    for summary in summaries:\n",
    "        summary_list.append(summary.find('p').get_text())\n",
    "\n",
    "    for date in datepost:\n",
    "        datepost_list.append(date.get('datetime'))"
   ]
  },
  {
   "cell_type": "code",
   "execution_count": 4,
   "metadata": {},
   "outputs": [],
   "source": [
    "ScrapeFakeNews('https://jornalivre.com/')"
   ]
  },
  {
   "cell_type": "code",
   "execution_count": 22,
   "metadata": {
    "scrolled": false
   },
   "outputs": [
    {
     "name": "stderr",
     "output_type": "stream",
     "text": [
      "100%|██████████| 1511/1511 [34:53<00:00,  1.39s/it]\n"
     ]
    }
   ],
   "source": [
    "from tqdm import tqdm\n",
    "\n",
    "#x = 1\n",
    "#paginas = 'https://jornalivre.com/page/' + str(x) +'/'\n",
    "  \n",
    "for x in tqdm(range(2,1513)):\n",
    "    paginas = 'https://jornalivre.com/page/' + str(x) +'/'\n",
    "    \n",
    "    try: \n",
    "        ScrapeFakeNews(paginas)\n",
    "    except (RuntimeError, TypeError, NameError):\n",
    "        break"
   ]
  },
  {
   "cell_type": "code",
   "execution_count": 23,
   "metadata": {},
   "outputs": [],
   "source": [
    "import pandas as pd\n",
    "import numpy as np"
   ]
  },
  {
   "cell_type": "code",
   "execution_count": 27,
   "metadata": {},
   "outputs": [],
   "source": [
    "title_final = np.array(title_list)\n",
    "url_final = np.array(link_list)\n",
    "summary_final = np.array(summary_list)\n",
    "datepost_final = np.array(datepost_list)"
   ]
  },
  {
   "cell_type": "code",
   "execution_count": 31,
   "metadata": {},
   "outputs": [],
   "source": [
    "jornalivre = pd.DataFrame(data=[title_final, url_final, summary_final,datepost_final])"
   ]
  },
  {
   "cell_type": "code",
   "execution_count": 38,
   "metadata": {},
   "outputs": [],
   "source": [
    "jornalivre_real = jornalivre.T"
   ]
  },
  {
   "cell_type": "code",
   "execution_count": 39,
   "metadata": {},
   "outputs": [],
   "source": [
    "jornalivre_real.columns = ['title', 'url', 'summary', 'datepost']"
   ]
  },
  {
   "cell_type": "code",
   "execution_count": 40,
   "metadata": {},
   "outputs": [
    {
     "data": {
      "text/html": [
       "<div>\n",
       "<style scoped>\n",
       "    .dataframe tbody tr th:only-of-type {\n",
       "        vertical-align: middle;\n",
       "    }\n",
       "\n",
       "    .dataframe tbody tr th {\n",
       "        vertical-align: top;\n",
       "    }\n",
       "\n",
       "    .dataframe thead th {\n",
       "        text-align: right;\n",
       "    }\n",
       "</style>\n",
       "<table border=\"1\" class=\"dataframe\">\n",
       "  <thead>\n",
       "    <tr style=\"text-align: right;\">\n",
       "      <th></th>\n",
       "      <th>title</th>\n",
       "      <th>url</th>\n",
       "      <th>summary</th>\n",
       "      <th>datepost</th>\n",
       "    </tr>\n",
       "  </thead>\n",
       "  <tbody>\n",
       "    <tr>\n",
       "      <th>0</th>\n",
       "      <td>Estudo do Ministério da Fazenda aponta: Brasil...</td>\n",
       "      <td>https://jornalivre.com/2017/12/08/estudo-do-mi...</td>\n",
       "      <td>Segundo noticiou o Diário Nacional, a Vereador...</td>\n",
       "      <td>2017-12-07T11:48:31+00:00</td>\n",
       "    </tr>\n",
       "    <tr>\n",
       "      <th>1</th>\n",
       "      <td>Em entrevista, Meirelles expõe desmandos do go...</td>\n",
       "      <td>https://jornalivre.com/2017/12/08/em-entrevist...</td>\n",
       "      <td>Informa o portal G1: Segundo a lenda de Robin ...</td>\n",
       "      <td>2017-12-08T20:57:59+00:00</td>\n",
       "    </tr>\n",
       "    <tr>\n",
       "      <th>2</th>\n",
       "      <td>Marcelo Odebrecht volta pra casa em jatinho pa...</td>\n",
       "      <td>https://jornalivre.com/2017/12/05/marcelo-odeb...</td>\n",
       "      <td>Em uma entrevista concedida à Exame, o Ministr...</td>\n",
       "      <td>2017-12-08T12:00:13+00:00</td>\n",
       "    </tr>\n",
       "    <tr>\n",
       "      <th>3</th>\n",
       "      <td>Ex-secretário da Saúde deixa escapar que hemat...</td>\n",
       "      <td>https://jornalivre.com/2017/12/04/ex-secretari...</td>\n",
       "      <td>Diante da Reforma da Previdência, tucanos faze...</td>\n",
       "      <td>2017-12-06T18:03:17+00:00</td>\n",
       "    </tr>\n",
       "    <tr>\n",
       "      <th>4</th>\n",
       "      <td>PSDB envergonhado de reformas liberais perde a...</td>\n",
       "      <td>https://jornalivre.com/2017/12/04/psdb-envergo...</td>\n",
       "      <td>A inflação é um imposto invisível. Quando o go...</td>\n",
       "      <td>2017-12-05T15:33:57+00:00</td>\n",
       "    </tr>\n",
       "  </tbody>\n",
       "</table>\n",
       "</div>"
      ],
      "text/plain": [
       "                                               title  \\\n",
       "0  Estudo do Ministério da Fazenda aponta: Brasil...   \n",
       "1  Em entrevista, Meirelles expõe desmandos do go...   \n",
       "2  Marcelo Odebrecht volta pra casa em jatinho pa...   \n",
       "3  Ex-secretário da Saúde deixa escapar que hemat...   \n",
       "4  PSDB envergonhado de reformas liberais perde a...   \n",
       "\n",
       "                                                 url  \\\n",
       "0  https://jornalivre.com/2017/12/08/estudo-do-mi...   \n",
       "1  https://jornalivre.com/2017/12/08/em-entrevist...   \n",
       "2  https://jornalivre.com/2017/12/05/marcelo-odeb...   \n",
       "3  https://jornalivre.com/2017/12/04/ex-secretari...   \n",
       "4  https://jornalivre.com/2017/12/04/psdb-envergo...   \n",
       "\n",
       "                                             summary  \\\n",
       "0  Segundo noticiou o Diário Nacional, a Vereador...   \n",
       "1  Informa o portal G1: Segundo a lenda de Robin ...   \n",
       "2  Em uma entrevista concedida à Exame, o Ministr...   \n",
       "3  Diante da Reforma da Previdência, tucanos faze...   \n",
       "4  A inflação é um imposto invisível. Quando o go...   \n",
       "\n",
       "                    datepost  \n",
       "0  2017-12-07T11:48:31+00:00  \n",
       "1  2017-12-08T20:57:59+00:00  \n",
       "2  2017-12-08T12:00:13+00:00  \n",
       "3  2017-12-06T18:03:17+00:00  \n",
       "4  2017-12-05T15:33:57+00:00  "
      ]
     },
     "execution_count": 40,
     "metadata": {},
     "output_type": "execute_result"
    }
   ],
   "source": [
    "jornalivre_real.head()"
   ]
  },
  {
   "cell_type": "code",
   "execution_count": 41,
   "metadata": {},
   "outputs": [],
   "source": [
    "jornalivre_real.to_csv('jornalivre final.csv')"
   ]
  }
 ],
 "metadata": {
  "kernelspec": {
   "display_name": "Python 3",
   "language": "python",
   "name": "python3"
  },
  "language_info": {
   "codemirror_mode": {
    "name": "ipython",
    "version": 3
   },
   "file_extension": ".py",
   "mimetype": "text/x-python",
   "name": "python",
   "nbconvert_exporter": "python",
   "pygments_lexer": "ipython3",
   "version": "3.5.4"
  }
 },
 "nbformat": 4,
 "nbformat_minor": 2
}
