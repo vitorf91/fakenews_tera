{
 "cells": [
  {
   "cell_type": "code",
   "execution_count": 1,
   "metadata": {},
   "outputs": [],
   "source": [
    "import pandas as pd\n",
    "import numpy as np"
   ]
  },
  {
   "cell_type": "code",
   "execution_count": 2,
   "metadata": {},
   "outputs": [],
   "source": [
    "jornalivre = pd.read_csv('data/jornalivre.csv', sep=',')\n",
    "diariodobrasil = pd.read_csv('data/diariodobrasil.csv', sep=',')\n",
    "ceticismopolitico = pd.read_csv('data/ceticismopolitico.csv', sep=',', low_memory=False, encoding='utf-8')"
   ]
  },
  {
   "cell_type": "code",
   "execution_count": 3,
   "metadata": {},
   "outputs": [],
   "source": [
    "jornalivre.columns = ['index', 'title', 'url', 'date', 'summary']"
   ]
  },
  {
   "cell_type": "code",
   "execution_count": 4,
   "metadata": {},
   "outputs": [],
   "source": [
    "diariodobrasil.columns = ['index', 'title', 'url', 'date', 'summary']"
   ]
  },
  {
   "cell_type": "code",
   "execution_count": 5,
   "metadata": {},
   "outputs": [],
   "source": [
    "ceticismopolitico.columns = ['index', 'title', 'url', 'date', 'summary']"
   ]
  },
  {
   "cell_type": "code",
   "execution_count": 6,
   "metadata": {},
   "outputs": [
    {
     "data": {
      "text/plain": [
       "(18144, 5)"
      ]
     },
     "execution_count": 6,
     "metadata": {},
     "output_type": "execute_result"
    }
   ],
   "source": [
    "jornalivre.shape"
   ]
  },
  {
   "cell_type": "code",
   "execution_count": 7,
   "metadata": {},
   "outputs": [
    {
     "data": {
      "text/plain": [
       "(1800, 5)"
      ]
     },
     "execution_count": 7,
     "metadata": {},
     "output_type": "execute_result"
    }
   ],
   "source": [
    "diariodobrasil.shape"
   ]
  },
  {
   "cell_type": "code",
   "execution_count": 8,
   "metadata": {},
   "outputs": [
    {
     "data": {
      "text/plain": [
       "(6735, 5)"
      ]
     },
     "execution_count": 8,
     "metadata": {},
     "output_type": "execute_result"
    }
   ],
   "source": [
    "ceticismopolitico.shape"
   ]
  },
  {
   "cell_type": "code",
   "execution_count": 9,
   "metadata": {},
   "outputs": [],
   "source": [
    "fakenews2 = jornalivre.append(diariodobrasil)\n",
    "fakenews = fakenews2.append(ceticismopolitico)\n",
    "\n",
    "fakenews = fakenews.drop('index', axis=1)"
   ]
  },
  {
   "cell_type": "code",
   "execution_count": 10,
   "metadata": {},
   "outputs": [
    {
     "data": {
      "text/html": [
       "<div>\n",
       "<style scoped>\n",
       "    .dataframe tbody tr th:only-of-type {\n",
       "        vertical-align: middle;\n",
       "    }\n",
       "\n",
       "    .dataframe tbody tr th {\n",
       "        vertical-align: top;\n",
       "    }\n",
       "\n",
       "    .dataframe thead th {\n",
       "        text-align: right;\n",
       "    }\n",
       "</style>\n",
       "<table border=\"1\" class=\"dataframe\">\n",
       "  <thead>\n",
       "    <tr style=\"text-align: right;\">\n",
       "      <th></th>\n",
       "      <th>title</th>\n",
       "      <th>url</th>\n",
       "      <th>date</th>\n",
       "      <th>summary</th>\n",
       "    </tr>\n",
       "  </thead>\n",
       "  <tbody>\n",
       "    <tr>\n",
       "      <th>0</th>\n",
       "      <td>Notícia de que Trump reconheceu Jerusalém como...</td>\n",
       "      <td>https://jornalivre.com/2017/12/09/noticia-de-q...</td>\n",
       "      <td>2017-12-07T11:48:31+00:00</td>\n",
       "      <td>Segundo noticiou o Diário Nacional, a Vereador...</td>\n",
       "    </tr>\n",
       "    <tr>\n",
       "      <th>1</th>\n",
       "      <td>Estudo do Ministério da Fazenda aponta: Brasil...</td>\n",
       "      <td>https://jornalivre.com/2017/12/08/estudo-do-mi...</td>\n",
       "      <td>2017-12-09T18:29:21+00:00</td>\n",
       "      <td>Um dos assuntos mais comentados desta semana f...</td>\n",
       "    </tr>\n",
       "    <tr>\n",
       "      <th>2</th>\n",
       "      <td>Em entrevista, Meirelles expõe desmandos do go...</td>\n",
       "      <td>https://jornalivre.com/2017/12/08/em-entrevist...</td>\n",
       "      <td>2017-12-08T20:57:59+00:00</td>\n",
       "      <td>Informa o portal G1: Segundo a lenda de Robin ...</td>\n",
       "    </tr>\n",
       "    <tr>\n",
       "      <th>3</th>\n",
       "      <td>Marcelo Odebrecht volta pra casa em jatinho pa...</td>\n",
       "      <td>https://jornalivre.com/2017/12/05/marcelo-odeb...</td>\n",
       "      <td>2017-12-08T12:00:13+00:00</td>\n",
       "      <td>Em uma entrevista concedida à Exame, o Ministr...</td>\n",
       "    </tr>\n",
       "    <tr>\n",
       "      <th>4</th>\n",
       "      <td>Ex-secretário da Saúde deixa escapar que hemat...</td>\n",
       "      <td>https://jornalivre.com/2017/12/04/ex-secretari...</td>\n",
       "      <td>2017-12-06T18:03:17+00:00</td>\n",
       "      <td>Diante da Reforma da Previdência, tucanos faze...</td>\n",
       "    </tr>\n",
       "  </tbody>\n",
       "</table>\n",
       "</div>"
      ],
      "text/plain": [
       "                                               title  \\\n",
       "0  Notícia de que Trump reconheceu Jerusalém como...   \n",
       "1  Estudo do Ministério da Fazenda aponta: Brasil...   \n",
       "2  Em entrevista, Meirelles expõe desmandos do go...   \n",
       "3  Marcelo Odebrecht volta pra casa em jatinho pa...   \n",
       "4  Ex-secretário da Saúde deixa escapar que hemat...   \n",
       "\n",
       "                                                 url  \\\n",
       "0  https://jornalivre.com/2017/12/09/noticia-de-q...   \n",
       "1  https://jornalivre.com/2017/12/08/estudo-do-mi...   \n",
       "2  https://jornalivre.com/2017/12/08/em-entrevist...   \n",
       "3  https://jornalivre.com/2017/12/05/marcelo-odeb...   \n",
       "4  https://jornalivre.com/2017/12/04/ex-secretari...   \n",
       "\n",
       "                        date  \\\n",
       "0  2017-12-07T11:48:31+00:00   \n",
       "1  2017-12-09T18:29:21+00:00   \n",
       "2  2017-12-08T20:57:59+00:00   \n",
       "3  2017-12-08T12:00:13+00:00   \n",
       "4  2017-12-06T18:03:17+00:00   \n",
       "\n",
       "                                             summary  \n",
       "0  Segundo noticiou o Diário Nacional, a Vereador...  \n",
       "1  Um dos assuntos mais comentados desta semana f...  \n",
       "2  Informa o portal G1: Segundo a lenda de Robin ...  \n",
       "3  Em uma entrevista concedida à Exame, o Ministr...  \n",
       "4  Diante da Reforma da Previdência, tucanos faze...  "
      ]
     },
     "execution_count": 10,
     "metadata": {},
     "output_type": "execute_result"
    }
   ],
   "source": [
    "fakenews.head()"
   ]
  }
 ],
 "metadata": {
  "kernelspec": {
   "display_name": "Python 3",
   "language": "python",
   "name": "python3"
  },
  "language_info": {
   "codemirror_mode": {
    "name": "ipython",
    "version": 3
   },
   "file_extension": ".py",
   "mimetype": "text/x-python",
   "name": "python",
   "nbconvert_exporter": "python",
   "pygments_lexer": "ipython3",
   "version": "3.5.4"
  }
 },
 "nbformat": 4,
 "nbformat_minor": 2
}
